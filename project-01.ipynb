{
 "cells": [
  {
   "cell_type": "markdown",
   "metadata": {},
   "source": [
    "<img src=\"http://imgur.com/1ZcRyrc.png\" style=\"float: left; margin: 15px; height: 80px\">\n",
    "\n",
    "# Project 1\n",
    "\n",
    "### Review python syntax, structure, and concepts.\n",
    "\n",
    "---\n",
    "\n",
    "Project 1 is designed to be review and practice of python programming competencies.\n",
    "\n",
    "Please see the [Project Section Guide](https://github.com/ga-students/DSI-SF-4/wiki/Project-Section-Guide) on the github wiki for review of the color-coding of problems.\n"
   ]
  },
  {
   "cell_type": "markdown",
   "metadata": {},
   "source": [
    "<img src=\"http://imgur.com/l5NasQj.png\" style=\"float: left; margin: 25px 15px 0px 0px; height: 25px\">\n",
    "\n",
    "## Review Problem 1\n",
    "\n",
    "---\n",
    "\n",
    "For this problem you will be writing a function that the supplied dictionary `input_dict` and operates on it.\n",
    "\n",
    "Define a function that:\n",
    "\n",
    "- Accepts 1 argument, which will be a dictionary.\n",
    "- Prints the dictionary.\n",
    "- Iterates through the key:value pairs of the dictionary:\n",
    "    - For pairs where the key starts with a lowercase vowel, change the value to \"vowel\".\n",
    "    - For pairs where the key starts with a lowercase consonant, change the value to \"consonant\".\n",
    "    - Remove all other pairs from the dictionary.\n",
    "- Prints the modified dictionary.\n",
    "- Returns the modified dictionary.\n",
    "\n",
    "Notes/Hints:\n",
    " \n",
    "- ```string.ascii_lowercase``` is a string of all the lowercase letters in the alphabet. to use it you need to **import string** at the beginning of your script.\n",
    "- You can check if a character is in a string with **in**. \n",
    "    - ex: \n",
    "        ```python\n",
    "        if ch in st:\n",
    "        ```\n",
    "- You can create a new dictionary to store the modified return values or operate on the input dictionary.\n",
    "- You can check types using the ```type()``` python function:\n",
    "    ```python\n",
    "    type(1) == int\n",
    "    type(1.2) == float\n",
    "    type('ab') == str\n",
    "    type((1,2)) == tuple\n",
    "    type([3,2]) == list\n",
    "    type({'a':'b'}) == dict\n",
    "    ```"
   ]
  },
  {
   "cell_type": "code",
   "execution_count": 48,
   "metadata": {
    "collapsed": true
   },
   "outputs": [],
   "source": [
    "\n",
    "input_dict = {'list':[1,2,3,4], 'tuple':('cat', 'dog'), 'integer':1, \n",
    "              'float':99.99, 1:'integer', 2:'integer_2', 'Uppercase_string':'ABCD',\n",
    "              'CHARACTER':'C'}"
   ]
  },
  {
   "cell_type": "markdown",
   "metadata": {},
   "source": [
    "#### Define your function below:"
   ]
  },
  {
   "cell_type": "code",
   "execution_count": 94,
   "metadata": {
    "collapsed": false
   },
   "outputs": [],
   "source": [
    "import string\n",
    "\n",
    "def vowel_count(my_dict):\n",
    "    print (my_dict)\n",
    "    \n",
    "    for key in my_dict.keys():\n",
    "        if type(key) == str:\n",
    "            if key[0].islower() == True:\n",
    "                if key[0] in 'aeiou':\n",
    "                    my_dict[key] = 'vowel'\n",
    "                else:\n",
    "                    my_dict[key] = 'consonant' \n",
    "        else:\n",
    "            del my_dict[key]\n",
    "    \n",
    "    print (my_dict)\n",
    "    return my_dict\n"
   ]
  },
  {
   "cell_type": "markdown",
   "metadata": {},
   "source": [
    "#### Run your function with the `input_dict`:"
   ]
  },
  {
   "cell_type": "code",
   "execution_count": 95,
   "metadata": {
    "collapsed": false
   },
   "outputs": [
    {
     "name": "stdout",
     "output_type": "stream",
     "text": [
      "{'list': 'consonant', 'float': 'consonant', 'tuple': ('cat', 'dog'), 'integer': 1}\n",
      "{'list': 'consonant', 'float': 'consonant', 'tuple': 'consonant', 'integer': 'vowel'}\n"
     ]
    },
    {
     "data": {
      "text/plain": [
       "{'float': 'consonant',\n",
       " 'integer': 'vowel',\n",
       " 'list': 'consonant',\n",
       " 'tuple': 'consonant'}"
      ]
     },
     "execution_count": 95,
     "metadata": {},
     "output_type": "execute_result"
    }
   ],
   "source": [
    "vowel_count(input_dict)"
   ]
  },
  {
   "cell_type": "markdown",
   "metadata": {},
   "source": [
    "<img src=\"http://imgur.com/l5NasQj.png\" style=\"float: left; margin: 25px 15px 0px 0px; height: 25px\">\n",
    "\n",
    "## Review Problem 2\n",
    "\n",
    "---\n",
    "\n",
    "Write a function that operates on a dictionary and an optional list of numbers.\n",
    "\n",
    "Define a function that:\n",
    "\n",
    "- Accepts a dictionary as its first argument. The values of the dictionary should be a list of numbers.\n",
    "- Accepts an optional keyword argument that will be a list. The default should be an empty list. Name the optional keyword list `remainder`.\n",
    "- If `remainder` is empty: append a 2 to `remainder`.\n",
    "- Print the dictionary as well as `remainder`.\n",
    "- Iterate though they key:value pairs in the dictionary:\n",
    "    - For each value list of numbers, calculate the remainder of each number for each number in the `remainder` list.\n",
    "    - Create a dictionary where the keys are the numbers in the value list, and the values are the remainders of that number from the remainder list.\n",
    "    - ex: if a value in the dictionary is `[10,9]` and `remainder` is `[2,3]`, the new dictionary would be: `{10:[0, 1], 9:[1, 0]}`\n",
    "    - Keep the original key of the input dictionary, but change the value to the new dictionary of remainders.\n",
    "- Print out the final output dictionary.\n",
    "- Return the output dictionary.\n",
    "\n",
    "Notes/Hints:\n",
    "\n",
    "- keyword arguments are specified in functions like so: \n",
    "    ```python\n",
    "    def example_function(arg1, kwarg1=default_value):\n",
    "    ```\n",
    "- The operator for finding the remainder of two values is \"modulus\": ```%```\n",
    "    ```python\n",
    "    14 % 5 == 4\n",
    "    ```"
   ]
  },
  {
   "cell_type": "code",
   "execution_count": 2,
   "metadata": {
    "collapsed": true
   },
   "outputs": [],
   "source": [
    "test_dict = {'A':[1,2,3,4,5], 'B':[12.1, 14.2, 20.3, 25.4], 'C':[10, 25.5, 50.9, 101]}\n",
    "optional_remainder = [2,3,4,5]"
   ]
  },
  {
   "cell_type": "markdown",
   "metadata": {},
   "source": [
    "#### Define your function below:"
   ]
  },
  {
   "cell_type": "code",
   "execution_count": 91,
   "metadata": {
    "collapsed": false
   },
   "outputs": [],
   "source": [
    "test_dict = {'A':[1,2,3,4,5], 'B':[12.1, 14.2, 20.3, 25.4], 'C':[10, 25.5, 50.9, 101]}\n",
    "optional_remainder = [2,3,4,5]\n",
    "\n",
    "def function(my_dict, remainder = []):\n",
    "    \n",
    "    if remainder == []:\n",
    "        remainder.append(2)\n",
    "        \n",
    "    print(my_dict, remainder)\n",
    "    \n",
    "    new_dict = {}\n",
    "    for value in my_dict.values():        \n",
    "        for v in value:\n",
    "            rem_list = []\n",
    "            for r in remainder:                \n",
    "                a = v % r\n",
    "                rem_list.append(round(a, 5))\n",
    "                new_dict[v] = rem_list\n",
    "        \n",
    "    print (new_dict)\n",
    "    return new_dict"
   ]
  },
  {
   "cell_type": "markdown",
   "metadata": {},
   "source": [
    "#### Run the function with `test_dict` only:"
   ]
  },
  {
   "cell_type": "code",
   "execution_count": 92,
   "metadata": {
    "collapsed": false
   },
   "outputs": [
    {
     "name": "stdout",
     "output_type": "stream",
     "text": [
      "{'A': [1, 2, 3, 4, 5], 'B': [12.1, 14.2, 20.3, 25.4], 'C': [10, 25.5, 50.9, 101]} [2]\n",
      "{1: [1], 2: [0], 3: [1], 4: [0], 5: [1], 10: [0], 12.1: [0.1], 14.2: [0.2], 50.9: [0.9], 20.3: [0.3], 25.4: [1.4], 25.5: [1.5], 101: [1]}\n"
     ]
    },
    {
     "data": {
      "text/plain": [
       "{1: [1],\n",
       " 2: [0],\n",
       " 3: [1],\n",
       " 4: [0],\n",
       " 5: [1],\n",
       " 10: [0],\n",
       " 12.1: [0.1],\n",
       " 14.2: [0.2],\n",
       " 20.3: [0.3],\n",
       " 25.4: [1.4],\n",
       " 25.5: [1.5],\n",
       " 50.9: [0.9],\n",
       " 101: [1]}"
      ]
     },
     "execution_count": 92,
     "metadata": {},
     "output_type": "execute_result"
    }
   ],
   "source": [
    "function(test_dict)"
   ]
  },
  {
   "cell_type": "markdown",
   "metadata": {},
   "source": [
    "#### Run the function with `test_dict` and `optional_remainder`:"
   ]
  },
  {
   "cell_type": "code",
   "execution_count": 93,
   "metadata": {
    "collapsed": false
   },
   "outputs": [
    {
     "name": "stdout",
     "output_type": "stream",
     "text": [
      "{'A': [1, 2, 3, 4, 5], 'B': [12.1, 14.2, 20.3, 25.4], 'C': [10, 25.5, 50.9, 101]} [2, 3, 4, 5]\n",
      "{1: [1, 1, 1, 1], 2: [0, 2, 2, 2], 3: [1, 0, 3, 3], 4: [0, 1, 0, 4], 5: [1, 2, 1, 0], 10: [0, 1, 2, 0], 12.1: [0.1, 0.1, 0.1, 2.1], 14.2: [0.2, 2.2, 2.2, 4.2], 50.9: [0.9, 2.9, 2.9, 0.9], 20.3: [0.3, 2.3, 0.3, 0.3], 25.4: [1.4, 1.4, 1.4, 0.4], 25.5: [1.5, 1.5, 1.5, 0.5], 101: [1, 2, 1, 1]}\n"
     ]
    },
    {
     "data": {
      "text/plain": [
       "{1: [1, 1, 1, 1],\n",
       " 2: [0, 2, 2, 2],\n",
       " 3: [1, 0, 3, 3],\n",
       " 4: [0, 1, 0, 4],\n",
       " 5: [1, 2, 1, 0],\n",
       " 10: [0, 1, 2, 0],\n",
       " 12.1: [0.1, 0.1, 0.1, 2.1],\n",
       " 14.2: [0.2, 2.2, 2.2, 4.2],\n",
       " 20.3: [0.3, 2.3, 0.3, 0.3],\n",
       " 25.4: [1.4, 1.4, 1.4, 0.4],\n",
       " 25.5: [1.5, 1.5, 1.5, 0.5],\n",
       " 50.9: [0.9, 2.9, 2.9, 0.9],\n",
       " 101: [1, 2, 1, 1]}"
      ]
     },
     "execution_count": 93,
     "metadata": {},
     "output_type": "execute_result"
    }
   ],
   "source": [
    "function(test_dict, optional_remainder)"
   ]
  },
  {
   "cell_type": "markdown",
   "metadata": {},
   "source": [
    "<img src=\"http://imgur.com/l5NasQj.png\" style=\"float: left; margin: 25px 15px 0px 0px; height: 25px\">\n",
    "\n",
    "## Review Problem 3\n",
    "\n",
    "---\n",
    "\n",
    "Write a function that will iterate through two lists and perform an operation.\n",
    "\n",
    "Define a function that:\n",
    "\n",
    "- Accepts two arguments that are lists of numbers (either float or integer):\n",
    "- Print both of the lists.\n",
    "- Construct a `while` loop that:\n",
    "    - Prints the current iteration number, starting at 1.\n",
    "        ```python\n",
    "        Iteration: 1\n",
    "        ```\n",
    "    - Iterates through each element of both lists at the same time using a `for` loop, assigning the number from list 1 to a variable `value1` and the number from list 2 to a variable `value2`. For example, if `list1 == [1, 2]` and `list2 == [3, 4]`, there will be two iterations through the `for` loop:\n",
    "        - Iteration 1 will have ```value1 == 1``` and ```value2 == 3```\n",
    "        - Iteration 2 will have ```value2 == 2``` and ```value2 == 4```\n",
    "    - Within the `for` loop:\n",
    "        - Multiply `value1` and `value2` together and assign it to variable `multiplied`.\n",
    "        - Print `multiplied`.\n",
    "        - If `multiplied` is greater than 300, break out of the `for` loop and `while` loop.\n",
    "        - Otherwise, multiply each element of list 1 and list 2 by 2 before continuing through the `while` loop\n",
    "- Print \"Function complete.\"\n",
    "\n",
    "Notes/Hints:\n",
    "\n",
    "- To break out of a for loop or while loop at any time, use the `break` command.\n",
    "    - ex: \n",
    "        ```python\n",
    "        for i in my_list: \n",
    "            if i > 10: \n",
    "                break\n",
    "        ```\n",
    "- The `zip()` function will join lists/tuples element by element.\n",
    "    - ex:\n",
    "        ```python\n",
    "        zip([1,2], [3,4]) == [(1, 3), (2, 4)]\n",
    "        ```\n",
    "    - In a `for` loop, you can assign multiple variables at a time:\n",
    "        ```python\n",
    "        for value1, value2 in zip(list1, list2):\n",
    "        ```\n",
    "- `while True` can run a loop until a `break` condition is reached. Be careful!"
   ]
  },
  {
   "cell_type": "code",
   "execution_count": 37,
   "metadata": {
    "collapsed": true
   },
   "outputs": [],
   "source": [
    "list1 = [1.5,3.5,5.5,7.5]\n",
    "list2 = [0,4,8,12]"
   ]
  },
  {
   "cell_type": "markdown",
   "metadata": {},
   "source": [
    "#### Define your function below:"
   ]
  },
  {
   "cell_type": "code",
   "execution_count": 150,
   "metadata": {
    "collapsed": false
   },
   "outputs": [],
   "source": [
    "list1 = [1.5,3.5,5.5,7.5]\n",
    "list2 = [0,4,8,12]\n",
    "\n",
    "def this_func(list_1, list_2):\n",
    "    \n",
    "    my_check = True\n",
    "    \n",
    "    while my_check:\n",
    "        for m in zip(list_1,list_2):\n",
    "            multiplied = m[0]*m[1]\n",
    "            print(list_1, list_2, multiplied)\n",
    "            \n",
    "            if multiplied > 300:\n",
    "                print(\"Function complete.\")\n",
    "                my_check = False\n",
    "                break\n",
    "                \n",
    "            else:\n",
    "                list_1 = [2*j for j in list1]\n",
    "                list_2 = [2*j for j in list2]\n",
    "   "
   ]
  },
  {
   "cell_type": "markdown",
   "metadata": {},
   "source": [
    "#### Run your function with arguments `list1` and `list2`"
   ]
  },
  {
   "cell_type": "code",
   "execution_count": 151,
   "metadata": {
    "collapsed": false
   },
   "outputs": [
    {
     "name": "stdout",
     "output_type": "stream",
     "text": [
      "[1.5, 3.5, 5.5, 7.5] [0, 4, 8, 12] 0.0\n",
      "[3.0, 7.0, 11.0, 15.0] [0, 8, 16, 24] 14.0\n",
      "[3.0, 7.0, 11.0, 15.0] [0, 8, 16, 24] 44.0\n",
      "[3.0, 7.0, 11.0, 15.0] [0, 8, 16, 24] 90.0\n",
      "[3.0, 7.0, 11.0, 15.0] [0, 8, 16, 24] 0.0\n",
      "[3.0, 7.0, 11.0, 15.0] [0, 8, 16, 24] 56.0\n",
      "[3.0, 7.0, 11.0, 15.0] [0, 8, 16, 24] 176.0\n",
      "[3.0, 7.0, 11.0, 15.0] [0, 8, 16, 24] 360.0\n",
      "Function complete.\n"
     ]
    }
   ],
   "source": [
    "this_func(list1, list2)"
   ]
  },
  {
   "cell_type": "markdown",
   "metadata": {},
   "source": [
    "<img src=\"http://imgur.com/l5NasQj.png\" style=\"float: left; margin: 25px 15px 0px 0px; height: 25px\">\n",
    "\n",
    "## Review Problem 4\n",
    "\n",
    "---\n",
    "\n",
    "Write a function that calculates summary statistics for distributions.\n",
    "\n",
    "Define a function that:\n",
    "\n",
    "- Accepts two arguments, `i` and `numbers`.\n",
    "- Prints a string indicating what the current `i` is.\n",
    "- Calculate, without using numpy, the mean of `numbers`.\n",
    "- Calculate, without using numpy, the median of `numbers`.\n",
    "- Print the mean and median, for example:\n",
    "    ```python\n",
    "    mean: 12\n",
    "    median: 9\n",
    "    ```\n",
    "    \n",
    "Notes/Hints:\n",
    "\n",
    "- You should define your function _outside_ of the provided `for` loop, and then call it with `i` and `numbers` within the `for` loop.\n",
    "- `for i in range(1, 15, 2)` assigns `i` from 1 to 15 with a step size of 2."
   ]
  },
  {
   "cell_type": "markdown",
   "metadata": {},
   "source": [
    "#### Define your function(s) below:"
   ]
  },
  {
   "cell_type": "code",
   "execution_count": 187,
   "metadata": {
    "collapsed": false
   },
   "outputs": [],
   "source": [
    "def calc_stats(i, numbers):\n",
    "    \n",
    "    print(i)\n",
    "    mean_x = float(sum(numbers))/ len(numbers)\n",
    "    if len(numbers) % 2 == 0:\n",
    "        median_nums = (numbers[len(numbers)/2-1] + numbers[len(numbers)/2])/float(2)\n",
    "    else:\n",
    "        median_nums = numbers[int(len(numbers)/2)]\n",
    "    print(\"Mean: \", mean_x)\n",
    "    print(\"Median: \", median_nums)\n"
   ]
  },
  {
   "cell_type": "markdown",
   "metadata": {},
   "source": [
    "#### Run your function with the provided for-loop below (in place of `q5_func`)"
   ]
  },
  {
   "cell_type": "code",
   "execution_count": 188,
   "metadata": {
    "collapsed": false
   },
   "outputs": [
    {
     "name": "stdout",
     "output_type": "stream",
     "text": [
      "1\n",
      "Mean:  0.0\n",
      "Median:  0\n",
      "3\n",
      "Mean:  33.336633663366335\n",
      "Median:  50\n",
      "5\n",
      "Mean:  39.603960396039604\n",
      "Median:  0\n",
      "7\n",
      "Mean:  42.722772277227726\n",
      "Median:  50\n",
      "9\n",
      "Mean:  44.118811881188115\n",
      "Median:  50\n",
      "11\n",
      "Mean:  45.0990099009901\n",
      "Median:  50\n",
      "13\n",
      "Mean:  46.396039603960396\n",
      "Median:  50\n"
     ]
    }
   ],
   "source": [
    "import numpy as np\n",
    "# Provided for loop for i and numbers:\n",
    "for i in range(1, 15, 2):\n",
    "    numbers = [x if not x % i == 0 else 0 for x in range(101)]\n",
    "    calc_stats(i, numbers)\n",
    "    \n",
    "    # Call your function here using i and numbers:\n",
    "\n",
    "\n"
   ]
  },
  {
   "cell_type": "markdown",
   "metadata": {},
   "source": [
    "<img src=\"http://imgur.com/l5NasQj.png\" style=\"float: left; margin: 25px 15px 0px 0px; height: 25px\">\n",
    "\n",
    "## Review Problem 5\n",
    "\n",
    "---\n",
    "\n",
    "Define a function that calculates the [pearson correlation coefficient](https://en.wikipedia.org/wiki/Pearson_product-moment_correlation_coefficient) between two lists of numbers.\n",
    "\n",
    "Your function will:\n",
    "\n",
    "- Accept two arguments (the provided lists `X` and `Y`).\n",
    "- Print the length of `X` and `Y` like so:\n",
    "    ```python\n",
    "    Length of X: 40\n",
    "    Length of Y: 40\n",
    "    ```\n",
    "- Calculate the pearson correlation coefficient between the two lists and assign the value to variable `pearson_r`.\n",
    "    - Create a variable `X_deviation` that is each element of `X` minus the mean of `X`. \n",
    "    - Create a variable `Y_deviation` that is each element of `Y` minus the mean of `Y`.\n",
    "    - Create a variable `sqrt_X_deviation_sq` that is the square root of the sum of the square of each element of `X_deviation`.\n",
    "    - Create a variable `sqrt_Y_deviation_sq` that is the same thing you just did but for `Y_deviation`.\n",
    "    - Create a variable `sum_XY_deviation` that is the sum of each element of `X` and `Y` multiplied by each other, in order. You can use the `zip()` function to iterate through two lists at the same time:\n",
    "        ```python\n",
    "        for x_d, y_d in zip(X_deviation, Y_deviation):\n",
    "        ```\n",
    "    - `pearson_r` is equal to `sum_XY_deviation` divided by `(sqrt_X_deviation_sq * sqrt_Y_deviation_sq)`.\n",
    "- Print `pearson_r`.\n",
    "- Check if it is the same as numpy's correlation function. Print `np.corrcoef(X, Y)[0,1]`\n",
    "    "
   ]
  },
  {
   "cell_type": "code",
   "execution_count": 76,
   "metadata": {
    "collapsed": true
   },
   "outputs": [],
   "source": [
    "X = [14.2,5.8,4.8,12.7,5.6,-1.2,5.3,11.9,4.8,8.1,1.5,8.5,14.9,6.1,\n",
    "     6.8,12.6,15.5,24.3,15.6,16.8,22.3,22.6,26.2,19.0,24.3,26.3,\n",
    "     25.3,31.6,27.3,33.0,32.6,30.7,29.6,34.7,32.7,43.1,40.1,35.4,49.6,38.6]\n",
    "\n",
    "Y = [-15.5,-8.5,0.8,-3.9,4.9,12.7,10.0,16.5,5.7,13.1,10.3,12.4,-1.5,\n",
    "     1.7,26.0,14.3,30.3,21.7,27.5,38.2,18.9,21.2,18.2,26.1,14.7,16.4,\n",
    "     22.8,34.3,37.1,38.9,39.1,33.8,52.2,36.5,20.7,21.6,14.5,33.6,44.5,44.2]"
   ]
  },
  {
   "cell_type": "markdown",
   "metadata": {},
   "source": [
    "#### Define your function below:"
   ]
  },
  {
   "cell_type": "code",
   "execution_count": 80,
   "metadata": {
    "collapsed": false
   },
   "outputs": [],
   "source": [
    "import numpy as np \n",
    "\n",
    "def pear_corr_coef(list_x, list_y):\n",
    "    print('Length of X: ' + str(len(list_x)))\n",
    "    print('Length of Y: ' + str(len(list_y)))\n",
    "    \n",
    "    X_deviation = [\n",
    "        a - np.mean(list_x)\n",
    "        for a in list_x\n",
    "    ]\n",
    "    Y_deviation = [\n",
    "        b - np.mean(list_y)\n",
    "        for b in list_y\n",
    "    ]\n",
    "    sqrt_X_deviation_sq = (sum([x**2 for x in X_deviation]))**0.5\n",
    "    sqrt_Y_deviation_sq = (sum([y**2 for y in Y_deviation]))**0.5\n",
    "    sum_XY_deviation = sum(x_d * y_d for x_d,y_d in zip(X_deviation, Y_deviation))\n",
    "    pearson_r = [\n",
    "        sum_XY_deviation / (sqrt_X_deviation_sq * sqrt_Y_deviation_sq)\n",
    "    ]\n",
    "    print (pearson_r)\n",
    "    print (np.corrcoef(X,Y)[0,1])"
   ]
  },
  {
   "cell_type": "markdown",
   "metadata": {},
   "source": [
    "#### Run your function on `X` and `Y`:"
   ]
  },
  {
   "cell_type": "code",
   "execution_count": 81,
   "metadata": {
    "collapsed": false
   },
   "outputs": [
    {
     "name": "stdout",
     "output_type": "stream",
     "text": [
      "Length of X: 40\n",
      "Length of Y: 40\n",
      "[0.65999052300624561]\n",
      "0.659990523006\n"
     ]
    }
   ],
   "source": [
    "pear_corr_coef(X, Y)"
   ]
  },
  {
   "cell_type": "markdown",
   "metadata": {},
   "source": [
    "<img src=\"http://imgur.com/l5NasQj.png\" style=\"float: left; margin: 25px 15px 0px 0px; height: 25px\">\n",
    "\n",
    "## Review Problem 6\n",
    "\n",
    "---\n",
    "\n",
    "For this problem you will be defining a function that calculates the [spearman rank correlation coefficient](https://en.wikipedia.org/wiki/Spearman%27s_rank_correlation_coefficient) between two lists. Spearman's rho is a measure of how related two sets of numbers are.\n",
    "\n",
    "Your function will:\n",
    "\n",
    "- Accept the provided lists of numbers defined for problem 5, `X` and `Y`.\n",
    "- Calculate the rank of the numbers in the `X` and `Y` lists. The rank is a number that defines what _index position_ each number would be if the list were in order.\n",
    "    - For example: say `list1 = [5,2,0,9,-5]`, then `list1_rank = [3,2,1,4,0]`\n",
    "    - Calculating the rank is not trivial. You can use the `rankdata()` function from `scipy.stats` on a list to get the ranks of the numbers.\n",
    "    - Assign the rank of list `X` to variable `X_rank` and list `Y` to variable `Y_rank`.\n",
    "- Manually calculate the covariance between `X_rank` and `Y_rank` as `XY_rank_cov`:\n",
    "    1. Calculate `X_mean`: the mean of `X_rank` using `np.mean()`.\n",
    "    2. Calculate `Y_mean`: the mean of `Y_rank` using `np.mean()`.\n",
    "    3. Calculate `X_deviation`: subtract `X_mean` from each element of `X_rank`.\n",
    "    4. Calculate `Y_deviation`: subtract `Y_mean` from each element of `Y_rank`.\n",
    "    5. Calculate `XY_d`: multiply `X_deviation` with `Y_deviation`, element by element. You can use pythons `zip()` function to iterate across lists at the same time:\n",
    "    ```python\n",
    "    for xd, yd in zip(X_deviation, Y_deviation):\n",
    "    ```\n",
    "    6. Calculate `sum_XY_d`: the sum of the elements in `XY_d` with `np.sum`.\n",
    "    7. Calculate `XY_rank_cov`: divide `sum_XY_d` by `len(XY_d)`.\n",
    "- Calculate the standard deviations `X_rank_std` and `Y_rank_std` of the `X_rank` and `Y_rank` lists. You can use `np.std()`.\n",
    "- Calculate the spearman rank correlation coefficient as `XY_spearman`: divide `XY_rank_cov` by `(X_rank_std * Y_rank_std)`.\n",
    "- Print `XY_spearman`.\n",
    "- Compare your value to the scipy function for spearman: print out `spearmanr(X, Y)`."
   ]
  },
  {
   "cell_type": "markdown",
   "metadata": {},
   "source": [
    "#### Define your function below:"
   ]
  },
  {
   "cell_type": "code",
   "execution_count": 87,
   "metadata": {
    "collapsed": false
   },
   "outputs": [],
   "source": [
    "from scipy import stats\n",
    "import numpy as np\n",
    "import scipy\n",
    "\n",
    "def calc_rho(lst_1, lst_2):\n",
    "    X_rank = stats.rankdata(lst_1)\n",
    "    Y_rank = stats.rankdata(lst_2)\n",
    "    \n",
    "    X_mean = np.mean(lst_1)\n",
    "    Y_mean = np.mean(lst_2)\n",
    "    X_deviation = [\n",
    "        b - X_mean\n",
    "        for b in X_rank\n",
    "    ]\n",
    "    Y_deviation = [\n",
    "        c - Y_mean\n",
    "        for c in Y_rank\n",
    "    ]\n",
    "    XY_d = [\n",
    "        xd * yd\n",
    "        for xd, yd in zip(X_deviation, Y_deviation)\n",
    "    ]\n",
    "    sum_XY_d = np.sum(XY_d)\n",
    "    XY_rank_cov = sum_XY_d / len(XY_d)\n",
    "    X_rank_std = np.std(X_rank)\n",
    "    Y_rank_std = np.std(Y_rank)\n",
    "    XY_spearman = XY_rank_cov / (X_rank_std * Y_rank_std)\n",
    "    print (XY_spearman)\n",
    "    "
   ]
  },
  {
   "cell_type": "markdown",
   "metadata": {},
   "source": [
    "#### Run your function on lists `X` and `Y`:"
   ]
  },
  {
   "cell_type": "code",
   "execution_count": 88,
   "metadata": {
    "collapsed": false
   },
   "outputs": [
    {
     "name": "stdout",
     "output_type": "stream",
     "text": [
      "0.721951405748\n",
      "SpearmanrResult(correlation=0.72192513686692761, pvalue=1.4606957738616958e-07)\n"
     ]
    }
   ],
   "source": [
    "calc_rho(X,Y)\n",
    "\n",
    "print (stats.spearmanr(X, Y))"
   ]
  },
  {
   "cell_type": "markdown",
   "metadata": {},
   "source": [
    "<img src=\"http://imgur.com/l5NasQj.png\" style=\"float: left; margin: 25px 15px 0px 0px; height: 25px\">\n",
    "\n",
    "## Review Problem 7\n",
    "\n",
    "---\n",
    "\n",
    "Write a function to calculate the [root mean squared error](https://en.wikipedia.org/wiki/Root-mean-square_deviation), often written as RMSE. The RMSE is a popular measure of performance of predictions when you have a set of **observed values** and a set of **predicted values**. Your predicted values in this case are your \"predictions\" of what the true, observed values are.\n",
    "\n",
    "Your function will:\n",
    "\n",
    "- Accept two predefined lists as arguments: ```true_values``` and ```predictions```.\n",
    "- Calculate the error between ```predictions``` and ```true_values``` as variable ```errors```:\n",
    "    - Element by element, calculate the prediction minus the true value.\n",
    "- Calculate the square of each element in ```errors``` and assign this to variable ```sq_errors```.\n",
    "- Calculate ```avg_sq_error```, the mean of ```sq_errors```.\n",
    "- Calculate ```rmse```, the square root of ```avg_sq_error``` using ```np.sqrt()```.\n",
    "- Print ```rmse```.\n",
    "- Return ```rmse```."
   ]
  },
  {
   "cell_type": "code",
   "execution_count": 16,
   "metadata": {
    "collapsed": true
   },
   "outputs": [],
   "source": [
    "predictions = [14.2,5.8,4.8,12.7,5.6,-1.2,5.3,11.9,4.8,8.1,1.5,8.5,14.9,6.1,\n",
    "     6.8,12.6,15.5,24.3,15.6,16.8,22.3,22.6,26.2,19.0,24.3,26.3,\n",
    "     25.3,31.6,27.3,33.0,32.6,30.7,29.6,34.7,32.7,43.1,40.1,35.4,49.6,38.6]\n",
    "\n",
    "true_values = [-15.5,-8.5,0.8,-3.9,4.9,12.7,10.0,16.5,5.7,13.1,10.3,12.4,-1.5,\n",
    "     1.7,26.0,14.3,30.3,21.7,27.5,38.2,18.9,21.2,18.2,26.1,14.7,16.4,\n",
    "     22.8,34.3,37.1,38.9,39.1,33.8,52.2,36.5,20.7,21.6,14.5,33.6,44.5,44.2]"
   ]
  },
  {
   "cell_type": "markdown",
   "metadata": {},
   "source": [
    "#### Define your function below:"
   ]
  },
  {
   "cell_type": "code",
   "execution_count": 17,
   "metadata": {
    "collapsed": true
   },
   "outputs": [],
   "source": [
    "def calc_RMSE(true_values, predictions):\n",
    "    errors = [\n",
    "        pr - tv\n",
    "        for pr, tv in zip(true_values, predictions)\n",
    "    ]\n",
    "    sq_errors = [\n",
    "        er**2\n",
    "        for er in errors\n",
    "    ]\n",
    "    avg_sq_error = np.mean(sq_errors)\n",
    "    rmse = np.sqrt(avg_sq_error)\n",
    "    print (rmse)\n",
    "    return rmse"
   ]
  },
  {
   "cell_type": "markdown",
   "metadata": {},
   "source": [
    "#### Run your function on `true_values` and `predictions`:"
   ]
  },
  {
   "cell_type": "code",
   "execution_count": 18,
   "metadata": {
    "collapsed": false
   },
   "outputs": [
    {
     "name": "stdout",
     "output_type": "stream",
     "text": [
      "11.7997245731\n"
     ]
    },
    {
     "data": {
      "text/plain": [
       "11.79972457305678"
      ]
     },
     "execution_count": 18,
     "metadata": {},
     "output_type": "execute_result"
    }
   ],
   "source": [
    "calc_RMSE(true_values, predictions)"
   ]
  },
  {
   "cell_type": "markdown",
   "metadata": {},
   "source": [
    "<img src=\"http://imgur.com/l5NasQj.png\" style=\"float: left; margin: 25px 15px 0px 0px; height: 25px\">\n",
    "\n",
    "## Review Problem 8\n",
    "\n",
    "---\n",
    "\n",
    "Define three functions to \"clean up\" two dictionaries and merge them together.\n",
    "\n",
    "Your first function, called ```string_intlist_cleaner``` should:\n",
    "\n",
    "- Accept one argument which will be a dictionary.\n",
    "- Iterate through the key:value pairs in the dictionary:\n",
    "    - If the key is not a **string**, remove the key:value pair from the dictionary.\n",
    "    - If the value is not a **list**, remove the key:value pair from the dictionary.\n",
    "- Return the \"cleaned\" dictionary.\n",
    "\n",
    "Your second function, called ```int_string_cleaner``` should:\n",
    "\n",
    "- Accept one argument which will be a dictionary.\n",
    "- Iterate through the key:value pairs in the dictionary:\n",
    "    - If the key is not an **integer**, remove the key:value pair from the dictionary.\n",
    "    - If the value is not a **string**, remove the key:value pair from the dictionary.\n",
    "- Return the \"cleaned\" dictionary.\n",
    "\n",
    "Your third function, called ```dict_cleaner``` should:\n",
    "\n",
    "- Accept two arguments which will be dictionaries.\n",
    "- Print the first dictionary.\n",
    "- Print the second dictionary.\n",
    "- Clean the first dictionary with ```string_intlist_cleaner()``` and assign to a variable.\n",
    "- Clean the second dictionary with ```int_string_cleaner()``` and assign to a variable\n",
    "- Combine the two cleaned dictionaries.\n",
    "- Print the combined and cleaned dictionary.\n",
    "- Return the combined and cleaned dictionary."
   ]
  },
  {
   "cell_type": "code",
   "execution_count": 98,
   "metadata": {
    "collapsed": true
   },
   "outputs": [],
   "source": [
    "first_dict = {'A':(1,2), 'B':[1,2,3,4,4], 'C':[0,9], 1:(1,1,1), 12:None, 'D':None, 'E':12.777}\n",
    "second_dict = {'1':('a','b'), 2:{1:23.3}, 3:'four', 4:'five', 'five':['six', 'seven'], 8:'nine'}"
   ]
  },
  {
   "cell_type": "markdown",
   "metadata": {},
   "source": [
    "#### Define your functions below:"
   ]
  },
  {
   "cell_type": "code",
   "execution_count": 114,
   "metadata": {
    "collapsed": true
   },
   "outputs": [],
   "source": [
    "def string_intlist_cleaner(my_dict):\n",
    "    dict_1 = {}\n",
    "    for k,v in my_dict.items():\n",
    "        if type(k) == str and type(v) == list:\n",
    "            dict_1[k] = v\n",
    "    return dict_1\n",
    "\n",
    "def int_string_cleaner(my_dict_2):\n",
    "    dict_2 = {}\n",
    "    for k,v in my_dict_2.items():\n",
    "        if type(k) == int and type(v) == str:\n",
    "            dict_2[k] = v\n",
    "    return dict_2\n",
    "\n",
    "def dict_cleaner(my_dict_3, my_dict_4):\n",
    "    print(my_dict_3)\n",
    "    print(my_dict_4)\n",
    "    cleaned_dict_3 = string_intlist_cleaner(my_dict_3)\n",
    "    cleaned_dict_4 = int_string_cleaner(my_dict_4)\n",
    "    comb_clean_dict = cleaned_dict_3.copy()\n",
    "    comb_clean_dict.update(cleaned_dict_4)\n",
    "    return comb_clean_dict\n",
    "        "
   ]
  },
  {
   "cell_type": "markdown",
   "metadata": {},
   "source": [
    "#### Run `dict_cleaner` with `first_dict` and `second_dict`:"
   ]
  },
  {
   "cell_type": "code",
   "execution_count": 115,
   "metadata": {
    "collapsed": false
   },
   "outputs": [
    {
     "name": "stdout",
     "output_type": "stream",
     "text": [
      "{1: (1, 1, 1), 'D': None, 'A': (1, 2), 12: None, 'E': 12.777, 'B': [1, 2, 3, 4, 4], 'C': [0, 9]}\n",
      "{'1': ('a', 'b'), 2: {1: 23.3}, 3: 'four', 4: 'five', 8: 'nine', 'five': ['six', 'seven']}\n"
     ]
    },
    {
     "data": {
      "text/plain": [
       "{8: 'nine', 4: 'five', 3: 'four', 'B': [1, 2, 3, 4, 4], 'C': [0, 9]}"
      ]
     },
     "execution_count": 115,
     "metadata": {},
     "output_type": "execute_result"
    }
   ],
   "source": [
    "dict_cleaner(first_dict, second_dict)"
   ]
  },
  {
   "cell_type": "markdown",
   "metadata": {},
   "source": [
    "<img src=\"http://imgur.com/l5NasQj.png\" style=\"float: left; margin: 25px 15px 0px 0px; height: 25px\">\n",
    "\n",
    "## Review Problem 9A\n",
    "\n",
    "---\n",
    "\n",
    "Load and parse stats on Pokemon (the pokedex) from a comma separated value (`.csv`) file into a list of lists.\n",
    "\n",
    "The provided code below loads information from a comma separated value (csv) file. You need to parse this string into a more useable format. The format of the string is:\n",
    "\n",
    "- Rows are separated by newline characters: `\\n`\n",
    "- Columns are separated by commas: `,`\n",
    "- All cells in the csv are double quoted. Ex: \"PokedexNumber\" is the first cell of the first row.\n",
    "\n",
    "Using `for` loops, create a list of lists where each list within the overall list is a row of the csv, and each element in that list is a cell in that row. Additional criteria:\n",
    "\n",
    "1. Remove the quotes from each cell item.\n",
    "2. Numeric column values should be converted to floats.\n",
    "3. There are some cells that are empty and have no information. For these cells put a -1 value in place.\n",
    "\n",
    "The first three lists in your pokedex list should look like:\n",
    "\n",
    "    ['PokedexNumber', 'Name', 'Type', 'Total', 'HP', 'Attack', 'Defense', 'SpecialAttack', 'SpecialDefense', 'Speed']\n",
    "    [1.0, 'Bulbasaur', 'GrassPoison', 318.0, 45.0, 49.0, 49.0, 65.0, 65.0, 45.0]\n",
    "    [2.0, 'Ivysaur', 'GrassPoison', 405.0, 60.0, 62.0, 63.0, 80.0, 80.0, 60.0]\n"
   ]
  },
  {
   "cell_type": "code",
   "execution_count": 3,
   "metadata": {
    "collapsed": false
   },
   "outputs": [],
   "source": [
    "# Change this filepath to point to the location of the .csv on your own computer:\n",
    "filepath = '../../DSI-SF-4/datasets/pokemon/pokedex_basic.csv'\n",
    "\n",
    "# Code to read in pokedex info\n",
    "raw_pd = ''\n",
    "with open(filepath, 'r') as f:\n",
    "    raw_pd = f.read()"
   ]
  },
  {
   "cell_type": "markdown",
   "metadata": {},
   "source": [
    "#### Parse the file into the list of lists:"
   ]
  },
  {
   "cell_type": "code",
   "execution_count": 16,
   "metadata": {
    "collapsed": false
   },
   "outputs": [
    {
     "name": "stdout",
     "output_type": "stream",
     "text": [
      "[['PokedexNumber', 'Name', 'Type', 'Total', 'HP', 'Attack', 'Defense', 'SpecialAttack', 'SpecialDefense', 'Speed'], [1.0, 'Bulbasaur', 'GrassPoison', 318.0, 45.0, 49.0, 49.0, 65.0, 65.0, 45.0], [2.0, 'Ivysaur', 'GrassPoison', 405.0, 60.0, 62.0, 63.0, 80.0, 80.0, 60.0], [3.0, 'Venusaur', 'GrassPoison', 525.0, 80.0, 82.0, 83.0, 100.0, 100.0, 80.0], [3.0, 'VenusaurMega Venusaur', 'GrassPoison', 625.0, 80.0, 100.0, 123.0, 122.0, 120.0, 80.0], [4.0, 'Charmander', 'Fire', 309.0, 39.0, 52.0, 43.0, 60.0, 50.0, 65.0], [5.0, 'Charmeleon', 'Fire', 405.0, 58.0, 64.0, 58.0, 80.0, 65.0, 80.0], [6.0, 'Charizard', 'FireFlying', 534.0, 78.0, 84.0, 78.0, 109.0, 85.0, 100.0], [6.0, 'CharizardMega Charizard X', 'FireDragon', 634.0, 78.0, 130.0, 111.0, 130.0, 85.0, 100.0], [6.0, 'CharizardMega Charizard Y', 'FireFlying', 634.0, 78.0, 104.0, 78.0, 159.0, 115.0, 100.0], [7.0, 'Squirtle', 'Water', 314.0, 44.0, 48.0, 65.0, 50.0, 64.0, 43.0], [8.0, 'Wartortle', 'Water', 405.0, 59.0, 63.0, 80.0, 65.0, 80.0, 58.0], [9.0, 'Blastoise', 'Water', 530.0, 79.0, 83.0, 100.0, 85.0, 105.0, 78.0], [9.0, 'BlastoiseMega Blastoise', 'Water', 630.0, 79.0, 103.0, 120.0, 135.0, 115.0, 78.0], [10.0, 'Caterpie', 'Bug', 195.0, 45.0, 30.0, 35.0, 20.0, 20.0, 45.0], [11.0, 'Metapod', 'Bug', 205.0, 50.0, 20.0, 55.0, 25.0, 25.0, 30.0], [12.0, 'Butterfree', 'BugFlying', 395.0, 60.0, 45.0, 50.0, 90.0, 80.0, 70.0], [13.0, 'Weedle', 'BugPoison', 195.0, 40.0, 35.0, 30.0, 20.0, 20.0, 50.0], [14.0, 'Kakuna', 'BugPoison', 205.0, 45.0, 25.0, 50.0, 25.0, 25.0, 35.0], [15.0, 'Beedrill', 'BugPoison', 395.0, 65.0, 90.0, 40.0, 45.0, 80.0, 75.0], [15.0, 'BeedrillMega Beedrill', 'BugPoison', 495.0, 65.0, 150.0, 40.0, 15.0, 80.0, 145.0], [16.0, 'Pidgey', 'NormalFlying', 251.0, 40.0, 45.0, 40.0, 35.0, 35.0, 56.0], [17.0, 'Pidgeotto', 'NormalFlying', 349.0, 63.0, 60.0, 55.0, 50.0, 50.0, 71.0], [18.0, 'Pidgeot', 'NormalFlying', 479.0, 83.0, 80.0, 75.0, 70.0, 70.0, 101.0], [18.0, 'PidgeotMega Pidgeot', 'NormalFlying', 579.0, 83.0, 80.0, 80.0, 135.0, 80.0, 121.0], [19.0, 'Rattata', 'Normal', 253.0, 30.0, 56.0, 35.0, 25.0, 35.0, 72.0], [20.0, 'Raticate', 'Normal', 413.0, 55.0, 81.0, 60.0, 50.0, 70.0, 97.0], [21.0, 'Spearow', 'NormalFlying', 262.0, 40.0, 60.0, 30.0, 31.0, 31.0, 70.0], [22.0, 'Fearow', 'NormalFlying', 442.0, 65.0, 90.0, 65.0, 61.0, 61.0, 100.0], [23.0, 'Ekans', 'Poison', 288.0, 35.0, 60.0, 44.0, 40.0, 54.0, 55.0], [24.0, 'Arbok', 'Poison', 438.0, 60.0, 85.0, 69.0, 65.0, 79.0, 80.0], [25.0, 'Pikachu', 'Electric', 320.0, 35.0, 55.0, 40.0, 50.0, 50.0, 90.0], [26.0, 'Raichu', 'Electric', 485.0, 60.0, 90.0, 55.0, 90.0, 80.0, 110.0], [27.0, 'Sandshrew', 'Ground', 300.0, 50.0, 75.0, 85.0, 20.0, 30.0, 40.0], [28.0, 'Sandslash', 'Ground', 450.0, 75.0, 100.0, 110.0, 45.0, 55.0, 65.0], [29.0, 'Nidoran♀', 'Poison', 275.0, 55.0, 47.0, 52.0, 40.0, 40.0, 41.0], [30.0, 'Nidorina', 'Poison', 365.0, 70.0, 62.0, 67.0, 55.0, 55.0, 56.0], [31.0, 'Nidoqueen', 'PoisonGround', 505.0, 90.0, 92.0, 87.0, 75.0, 85.0, 76.0], [32.0, 'Nidoran♂', 'Poison', 273.0, 46.0, 57.0, 40.0, 40.0, 40.0, 50.0], [33.0, 'Nidorino', 'Poison', 365.0, 61.0, 72.0, 57.0, 55.0, 55.0, 65.0], [34.0, 'Nidoking', 'PoisonGround', 505.0, 81.0, 102.0, 77.0, 85.0, 75.0, 85.0], [35.0, 'Clefairy', 'Fairy', 323.0, 70.0, 45.0, 48.0, 60.0, 65.0, 35.0], [36.0, 'Clefable', 'Fairy', 483.0, 95.0, 70.0, 73.0, 95.0, 90.0, 60.0], [37.0, 'Vulpix', 'Fire', 299.0, 38.0, 41.0, 40.0, 50.0, 65.0, 65.0], [38.0, 'Ninetales', 'Fire', 505.0, 73.0, 76.0, 75.0, 81.0, 100.0, 100.0], [39.0, 'Jigglypuff', 'NormalFairy', 270.0, 115.0, 45.0, 20.0, 45.0, 25.0, 20.0], [40.0, 'Wigglytuff', 'NormalFairy', 435.0, 140.0, 70.0, 45.0, 85.0, 50.0, 45.0], [41.0, 'Zubat', 'PoisonFlying', 245.0, 40.0, 45.0, 35.0, 30.0, 40.0, 55.0], [42.0, 'Golbat', 'PoisonFlying', 455.0, 75.0, 80.0, 70.0, 65.0, 75.0, 90.0], [43.0, 'Oddish', 'GrassPoison', 320.0, 45.0, 50.0, 55.0, 75.0, 65.0, 30.0], [44.0, 'Gloom', 'GrassPoison', 395.0, 60.0, 65.0, 70.0, 85.0, 75.0, 40.0], [45.0, 'Vileplume', 'GrassPoison', 490.0, 75.0, 80.0, 85.0, 110.0, 90.0, 50.0], [46.0, 'Paras', 'BugGrass', 285.0, 35.0, 70.0, 55.0, 45.0, 55.0, 25.0], [47.0, 'Parasect', 'BugGrass', 405.0, 60.0, 95.0, 80.0, 60.0, 80.0, 30.0], [48.0, 'Venonat', 'BugPoison', 305.0, 60.0, 55.0, 50.0, 40.0, 55.0, 45.0], [49.0, 'Venomoth', 'BugPoison', 450.0, 70.0, 65.0, 60.0, 90.0, 75.0, 90.0], [50.0, 'Diglett', 'Ground', 265.0, 10.0, 55.0, 25.0, 35.0, 45.0, 95.0], [51.0, 'Dugtrio', 'Ground', 405.0, 35.0, 80.0, 50.0, 50.0, 70.0, 120.0], [52.0, 'Meowth', 'Normal', 290.0, 40.0, 45.0, 35.0, 40.0, 40.0, 90.0], [53.0, 'Persian', 'Normal', 440.0, 65.0, 70.0, 60.0, 65.0, 65.0, 115.0], [54.0, 'Psyduck', 'Water', 320.0, 50.0, 52.0, 48.0, 65.0, 50.0, 55.0], [55.0, 'Golduck', 'Water', 500.0, 80.0, 82.0, 78.0, 95.0, 80.0, 85.0], [56.0, 'Mankey', 'Fighting', 305.0, 40.0, 80.0, 35.0, 35.0, 45.0, 70.0], [57.0, 'Primeape', 'Fighting', 455.0, 65.0, 105.0, 60.0, 60.0, 70.0, 95.0], [58.0, 'Growlithe', 'Fire', 350.0, 55.0, 70.0, 45.0, 70.0, 50.0, 60.0], [59.0, 'Arcanine', 'Fire', 555.0, 90.0, 110.0, 80.0, 100.0, 80.0, 95.0], [60.0, 'Poliwag', 'Water', 300.0, 40.0, 50.0, 40.0, 40.0, 40.0, 90.0], [61.0, 'Poliwhirl', 'Water', 385.0, 65.0, 65.0, 65.0, 50.0, 50.0, 90.0], [62.0, 'Poliwrath', 'WaterFighting', 510.0, 90.0, 95.0, 95.0, 70.0, 90.0, 70.0], [63.0, 'Abra', 'Psychic', 310.0, 25.0, 20.0, 15.0, 105.0, 55.0, 90.0], [64.0, 'Kadabra', 'Psychic', 400.0, 40.0, 35.0, 30.0, 120.0, 70.0, 105.0], [65.0, 'Alakazam', 'Psychic', 500.0, 55.0, 50.0, 45.0, 135.0, 95.0, 120.0], [65.0, 'AlakazamMega Alakazam', 'Psychic', 590.0, 55.0, 50.0, 65.0, 175.0, 95.0, 150.0], [66.0, 'Machop', 'Fighting', 305.0, 70.0, 80.0, 50.0, 35.0, 35.0, 35.0], [67.0, 'Machoke', 'Fighting', 405.0, 80.0, 100.0, 70.0, 50.0, 60.0, 45.0], [68.0, 'Machamp', 'Fighting', 505.0, 90.0, 130.0, 80.0, 65.0, 85.0, 55.0], [69.0, 'Bellsprout', 'GrassPoison', 300.0, 50.0, 75.0, 35.0, 70.0, 30.0, 40.0], [70.0, 'Weepinbell', 'GrassPoison', 390.0, 65.0, 90.0, 50.0, 85.0, 45.0, 55.0], [71.0, 'Victreebel', 'GrassPoison', 490.0, 80.0, 105.0, 65.0, 100.0, 70.0, 70.0], [72.0, 'Tentacool', 'WaterPoison', 335.0, 40.0, 40.0, 35.0, 50.0, 100.0, 70.0], [73.0, 'Tentacruel', 'WaterPoison', 515.0, 80.0, 70.0, 65.0, 80.0, 120.0, 100.0], [74.0, 'Geodude', 'RockGround', 300.0, 40.0, 80.0, 100.0, 30.0, 30.0, 20.0], [75.0, 'Graveler', 'RockGround', 390.0, 55.0, 95.0, 115.0, 45.0, 45.0, 35.0], [76.0, 'Golem', 'RockGround', 495.0, 80.0, 120.0, 130.0, 55.0, 65.0, 45.0], [77.0, 'Ponyta', 'Fire', 410.0, 50.0, 85.0, 55.0, 65.0, 65.0, 90.0], [78.0, 'Rapidash', 'Fire', 500.0, 65.0, 100.0, 70.0, 80.0, 80.0, 105.0], [79.0, 'Slowpoke', 'WaterPsychic', 315.0, 90.0, 65.0, 65.0, 40.0, 40.0, 15.0], [80.0, 'Slowbro', 'WaterPsychic', 490.0, 95.0, 75.0, 110.0, 100.0, 80.0, 30.0], [80.0, 'SlowbroMega Slowbro', 'WaterPsychic', 590.0, 95.0, 75.0, 180.0, 130.0, 80.0, 30.0], [81.0, 'Magnemite', 'ElectricSteel', 325.0, 25.0, 35.0, 70.0, 95.0, 55.0, 45.0], [82.0, 'Magneton', 'ElectricSteel', 465.0, 50.0, 60.0, 95.0, 120.0, 70.0, 70.0], [83.0, \"Farfetch'd\", 'NormalFlying', 352.0, 52.0, 65.0, 55.0, 58.0, 62.0, 60.0], [84.0, 'Doduo', 'NormalFlying', 310.0, 35.0, 85.0, 45.0, 35.0, 35.0, 75.0], [85.0, 'Dodrio', 'NormalFlying', 460.0, 60.0, 110.0, 70.0, 60.0, 60.0, 100.0], [86.0, 'Seel', 'Water', 325.0, 65.0, 45.0, 55.0, 45.0, 70.0, 45.0], [87.0, 'Dewgong', 'WaterIce', 475.0, 90.0, 70.0, 80.0, 70.0, 95.0, 70.0], [88.0, 'Grimer', 'Poison', 325.0, 80.0, 80.0, 50.0, 40.0, 50.0, 25.0], [89.0, 'Muk', 'Poison', 500.0, 105.0, 105.0, 75.0, 65.0, 100.0, 50.0], [90.0, 'Shellder', 'Water', 305.0, 30.0, 65.0, 100.0, 45.0, 25.0, 40.0], [91.0, 'Cloyster', 'WaterIce', 525.0, 50.0, 95.0, 180.0, 85.0, 45.0, 70.0], [92.0, 'Gastly', 'GhostPoison', 310.0, 30.0, 35.0, 30.0, 100.0, 35.0, 80.0], [93.0, 'Haunter', 'GhostPoison', 405.0, 45.0, 50.0, 45.0, 115.0, 55.0, 95.0], [94.0, 'Gengar', 'GhostPoison', 500.0, 60.0, 65.0, 60.0, 130.0, 75.0, 110.0], [94.0, 'GengarMega Gengar', 'GhostPoison', 600.0, 60.0, 65.0, 80.0, 170.0, 95.0, 130.0], [95.0, 'Onix', 'RockGround', 385.0, 35.0, 45.0, 160.0, 30.0, 45.0, 70.0], [96.0, 'Drowzee', 'Psychic', 328.0, 60.0, 48.0, 45.0, 43.0, 90.0, 42.0], [97.0, 'Hypno', 'Psychic', 483.0, 85.0, 73.0, 70.0, 73.0, 115.0, 67.0], [98.0, 'Krabby', 'Water', 325.0, 30.0, 105.0, 90.0, 25.0, 25.0, 50.0], [99.0, 'Kingler', 'Water', 475.0, 55.0, 130.0, 115.0, 50.0, 50.0, 75.0], [100.0, 'Voltorb', 'Electric', 330.0, 40.0, 30.0, 50.0, 55.0, 55.0, 100.0], [101.0, 'Electrode', 'Electric', 480.0, 60.0, 50.0, 70.0, 80.0, 80.0, 140.0], [102.0, 'Exeggcute', 'GrassPsychic', 325.0, 60.0, 40.0, 80.0, 60.0, 45.0, 40.0], [103.0, 'Exeggutor', 'GrassPsychic', 520.0, 95.0, 95.0, 85.0, 125.0, 65.0, 55.0], [104.0, 'Cubone', 'Ground', 320.0, 50.0, 50.0, 95.0, 40.0, 50.0, 35.0], [105.0, 'Marowak', 'Ground', 425.0, 60.0, 80.0, 110.0, 50.0, 80.0, 45.0], [106.0, 'Hitmonlee', 'Fighting', 455.0, 50.0, 120.0, 53.0, 35.0, 110.0, 87.0], [107.0, 'Hitmonchan', 'Fighting', 455.0, 50.0, 105.0, 79.0, 35.0, 110.0, 76.0], [108.0, 'Lickitung', 'Normal', 385.0, 90.0, 55.0, 75.0, 60.0, 75.0, 30.0], [109.0, 'Koffing', 'Poison', 340.0, 40.0, 65.0, 95.0, 60.0, 45.0, 35.0], [110.0, 'Weezing', 'Poison', 490.0, 65.0, 90.0, 120.0, 85.0, 70.0, 60.0], [111.0, 'Rhyhorn', 'GroundRock', 345.0, 80.0, 85.0, 95.0, 30.0, 30.0, 25.0], [112.0, 'Rhydon', 'GroundRock', 485.0, 105.0, 130.0, 120.0, 45.0, 45.0, 40.0], [113.0, 'Chansey', 'Normal', 450.0, 250.0, 5.0, 5.0, 35.0, 105.0, 50.0], [114.0, 'Tangela', 'Grass', 435.0, 65.0, 55.0, 115.0, 100.0, 40.0, 60.0], [115.0, 'Kangaskhan', 'Normal', 490.0, 105.0, 95.0, 80.0, 40.0, 80.0, 90.0], [115.0, 'KangaskhanMega Kangaskhan', 'Normal', 590.0, 105.0, 125.0, 100.0, 60.0, 100.0, 100.0], [116.0, 'Horsea', 'Water', 295.0, 30.0, 40.0, 70.0, 70.0, 25.0, 60.0], [117.0, 'Seadra', 'Water', 440.0, 55.0, 65.0, 95.0, 95.0, 45.0, 85.0], [118.0, 'Goldeen', 'Water', 320.0, 45.0, 67.0, 60.0, 35.0, 50.0, 63.0], [119.0, 'Seaking', 'Water', 450.0, 80.0, 92.0, 65.0, 65.0, 80.0, 68.0], [120.0, 'Staryu', 'Water', 340.0, 30.0, 45.0, 55.0, 70.0, 55.0, 85.0], [121.0, 'Starmie', 'WaterPsychic', 520.0, 60.0, 75.0, 85.0, 100.0, 85.0, 115.0], [122.0, 'Mr. Mime', 'PsychicFairy', 460.0, 40.0, 45.0, 65.0, 100.0, 120.0, 90.0], [123.0, 'Scyther', 'BugFlying', 500.0, 70.0, 110.0, 80.0, 55.0, 80.0, 105.0], [124.0, 'Jynx', 'IcePsychic', 455.0, 65.0, 50.0, 35.0, 115.0, 95.0, 95.0], [125.0, 'Electabuzz', 'Electric', 490.0, 65.0, 83.0, 57.0, 95.0, 85.0, 105.0], [126.0, 'Magmar', 'Fire', 495.0, 65.0, 95.0, 57.0, 100.0, 85.0, 93.0], [127.0, 'Pinsir', 'Bug', 500.0, 65.0, 125.0, 100.0, 55.0, 70.0, 85.0], [127.0, 'PinsirMega Pinsir', 'BugFlying', 600.0, 65.0, 155.0, 120.0, 65.0, 90.0, 105.0], [128.0, 'Tauros', 'Normal', 490.0, 75.0, 100.0, 95.0, 40.0, 70.0, 110.0], [129.0, 'Magikarp', 'Water', 200.0, 20.0, 10.0, 55.0, 15.0, 20.0, 80.0], [130.0, 'Gyarados', 'WaterFlying', 540.0, 95.0, 125.0, 79.0, 60.0, 100.0, 81.0], [130.0, 'GyaradosMega Gyarados', 'WaterDark', 640.0, 95.0, 155.0, 109.0, 70.0, 130.0, 81.0], [131.0, 'Lapras', 'WaterIce', 535.0, 130.0, 85.0, 80.0, 85.0, 95.0, 60.0], [132.0, 'Ditto', 'Normal', 288.0, 48.0, 48.0, 48.0, 48.0, 48.0, 48.0], [133.0, 'Eevee', 'Normal', 325.0, 55.0, 55.0, 50.0, 45.0, 65.0, 55.0], [134.0, 'Vaporeon', 'Water', 525.0, 130.0, 65.0, 60.0, 110.0, 95.0, 65.0], [135.0, 'Jolteon', 'Electric', 525.0, 65.0, 65.0, 60.0, 110.0, 95.0, 130.0], [136.0, 'Flareon', 'Fire', 525.0, 65.0, 130.0, 60.0, 95.0, 110.0, 65.0], [137.0, 'Porygon', 'Normal', 395.0, 65.0, 60.0, 70.0, 85.0, 75.0, 40.0], [138.0, 'Omanyte', 'RockWater', 355.0, 35.0, 40.0, 100.0, 90.0, 55.0, 35.0], [139.0, 'Omastar', 'RockWater', 495.0, 70.0, 60.0, 125.0, 115.0, 70.0, 55.0], [140.0, 'Kabuto', 'RockWater', 355.0, 30.0, 80.0, 90.0, 55.0, 45.0, 55.0], [141.0, 'Kabutops', 'RockWater', 495.0, 60.0, 115.0, 105.0, 65.0, 70.0, 80.0], [142.0, 'Aerodactyl', 'RockFlying', 515.0, 80.0, 105.0, 65.0, 60.0, 75.0, 130.0], [142.0, 'AerodactylMega Aerodactyl', 'RockFlying', 615.0, 80.0, 135.0, 85.0, 70.0, 95.0, 150.0], [143.0, 'Snorlax', 'Normal', 540.0, 160.0, 110.0, 65.0, 65.0, 110.0, 30.0], [144.0, 'Articuno', 'IceFlying', 580.0, 90.0, 85.0, 100.0, 95.0, 125.0, 85.0], [145.0, 'Zapdos', 'ElectricFlying', 580.0, 90.0, 90.0, 85.0, 125.0, 90.0, 100.0], [146.0, 'Moltres', 'FireFlying', 580.0, 90.0, 100.0, 90.0, 125.0, 85.0, 90.0], [147.0, 'Dratini', 'Dragon', 300.0, 41.0, 64.0, 45.0, 50.0, 50.0, 50.0], [148.0, 'Dragonair', 'Dragon', 420.0, 61.0, 84.0, 65.0, 70.0, 70.0, 70.0], [149.0, 'Dragonite', 'DragonFlying', 600.0, 91.0, 134.0, 95.0, 100.0, 100.0, 80.0], [150.0, 'Mewtwo', 'Psychic', 680.0, 106.0, 110.0, 90.0, 154.0, 90.0, 130.0], [150.0, 'MewtwoMega Mewtwo X', 'PsychicFighting', 780.0, 106.0, 190.0, 100.0, 154.0, 100.0, 130.0], [150.0, 'MewtwoMega Mewtwo Y', 'Psychic', 780.0, 106.0, 150.0, 70.0, 194.0, 120.0, 140.0], [151.0, 'Mew', 'Psychic', 600.0, 100.0, 100.0, 100.0, 100.0, 100.0, 100.0], [152.0, 'Chikorita', 'Grass', 318.0, 45.0, 49.0, 65.0, 49.0, 65.0, 45.0], [153.0, 'Bayleef', 'Grass', 405.0, 60.0, 62.0, 80.0, 63.0, 80.0, 60.0], [154.0, 'Meganium', 'Grass', 525.0, 80.0, 82.0, 100.0, 83.0, 100.0, 80.0], [155.0, 'Cyndaquil', 'Fire', 309.0, 39.0, 52.0, 43.0, 60.0, 50.0, 65.0], [156.0, 'Quilava', 'Fire', 405.0, 58.0, 64.0, 58.0, 80.0, 65.0, 80.0], [157.0, 'Typhlosion', 'Fire', 534.0, 78.0, 84.0, 78.0, 109.0, 85.0, 100.0], [158.0, 'Totodile', 'Water', 314.0, 50.0, 65.0, 64.0, 44.0, 48.0, 43.0], [159.0, 'Croconaw', 'Water', 405.0, 65.0, 80.0, 80.0, 59.0, 63.0, 58.0], [160.0, 'Feraligatr', 'Water', 530.0, 85.0, 105.0, 100.0, 79.0, 83.0, 78.0], [161.0, 'Sentret', 'Normal', 215.0, 35.0, 46.0, 34.0, 35.0, 45.0, 20.0], [162.0, 'Furret', 'Normal', 415.0, 85.0, 76.0, 64.0, 45.0, 55.0, 90.0], [163.0, 'Hoothoot', 'NormalFlying', 262.0, 60.0, 30.0, 30.0, 36.0, 56.0, 50.0], [164.0, 'Noctowl', 'NormalFlying', 442.0, 100.0, 50.0, 50.0, 76.0, 96.0, 70.0], [165.0, 'Ledyba', 'BugFlying', 265.0, 40.0, 20.0, 30.0, 40.0, 80.0, 55.0], [166.0, 'Ledian', 'BugFlying', 390.0, 55.0, 35.0, 50.0, 55.0, 110.0, 85.0], [167.0, 'Spinarak', 'BugPoison', 250.0, 40.0, 60.0, 40.0, 40.0, 40.0, 30.0], [168.0, 'Ariados', 'BugPoison', 390.0, 70.0, 90.0, 70.0, 60.0, 60.0, 40.0], [169.0, 'Crobat', 'PoisonFlying', 535.0, 85.0, 90.0, 80.0, 70.0, 80.0, 130.0], [170.0, 'Chinchou', 'WaterElectric', 330.0, 75.0, 38.0, 38.0, 56.0, 56.0, 67.0], [171.0, 'Lanturn', 'WaterElectric', 460.0, 125.0, 58.0, 58.0, 76.0, 76.0, 67.0], [172.0, 'Pichu', 'Electric', 205.0, 20.0, 40.0, 15.0, 35.0, 35.0, 60.0], [173.0, 'Cleffa', 'Fairy', 218.0, 50.0, 25.0, 28.0, 45.0, 55.0, 15.0], [174.0, 'Igglybuff', 'NormalFairy', 210.0, 90.0, 30.0, 15.0, 40.0, 20.0, 15.0], [175.0, 'Togepi', 'Fairy', 245.0, 35.0, 20.0, 65.0, 40.0, 65.0, 20.0], [176.0, 'Togetic', 'FairyFlying', 405.0, 55.0, 40.0, 85.0, 80.0, 105.0, 40.0], [177.0, 'Natu', 'PsychicFlying', 320.0, 40.0, 50.0, 45.0, 70.0, 45.0, 70.0], [178.0, 'Xatu', 'PsychicFlying', 470.0, 65.0, 75.0, 70.0, 95.0, 70.0, 95.0], [179.0, 'Mareep', 'Electric', 280.0, 55.0, 40.0, 40.0, 65.0, 45.0, 35.0], [180.0, 'Flaaffy', 'Electric', 365.0, 70.0, 55.0, 55.0, 80.0, 60.0, 45.0], [181.0, 'Ampharos', 'Electric', 510.0, 90.0, 75.0, 85.0, 115.0, 90.0, 55.0], [181.0, 'AmpharosMega Ampharos', 'ElectricDragon', 610.0, 90.0, 95.0, 105.0, 165.0, 110.0, 45.0], [182.0, 'Bellossom', 'Grass', 490.0, 75.0, 80.0, 95.0, 90.0, 100.0, 50.0], [183.0, 'Marill', 'WaterFairy', 250.0, 70.0, 20.0, 50.0, 20.0, 50.0, 40.0], [184.0, 'Azumarill', 'WaterFairy', 420.0, 100.0, 50.0, 80.0, 60.0, 80.0, 50.0], [185.0, 'Sudowoodo', 'Rock', 410.0, 70.0, 100.0, 115.0, 30.0, 65.0, 30.0], [186.0, 'Politoed', 'Water', 500.0, 90.0, 75.0, 75.0, 90.0, 100.0, 70.0], [187.0, 'Hoppip', 'GrassFlying', 250.0, 35.0, 35.0, 40.0, 35.0, 55.0, 50.0], [188.0, 'Skiploom', 'GrassFlying', 340.0, 55.0, 45.0, 50.0, 45.0, 65.0, 80.0], [189.0, 'Jumpluff', 'GrassFlying', 460.0, 75.0, 55.0, 70.0, 55.0, 95.0, 110.0], [190.0, 'Aipom', 'Normal', 360.0, 55.0, 70.0, 55.0, 40.0, 55.0, 85.0], [191.0, 'Sunkern', 'Grass', 180.0, 30.0, 30.0, 30.0, 30.0, 30.0, 30.0], [192.0, 'Sunflora', 'Grass', 425.0, 75.0, 75.0, 55.0, 105.0, 85.0, 30.0], [193.0, 'Yanma', 'BugFlying', 390.0, 65.0, 65.0, 45.0, 75.0, 45.0, 95.0], [194.0, 'Wooper', 'WaterGround', 210.0, 55.0, 45.0, 45.0, 25.0, 25.0, 15.0], [195.0, 'Quagsire', 'WaterGround', 430.0, 95.0, 85.0, 85.0, 65.0, 65.0, 35.0], [196.0, 'Espeon', 'Psychic', 525.0, 65.0, 65.0, 60.0, 130.0, 95.0, 110.0], [197.0, 'Umbreon', 'Dark', 525.0, 95.0, 65.0, 110.0, 60.0, 130.0, 65.0], [198.0, 'Murkrow', 'DarkFlying', 405.0, 60.0, 85.0, 42.0, 85.0, 42.0, 91.0], [199.0, 'Slowking', 'WaterPsychic', 490.0, 95.0, 75.0, 80.0, 100.0, 110.0, 30.0], [200.0, 'Misdreavus', 'Ghost', 435.0, 60.0, 60.0, 60.0, 85.0, 85.0, 85.0], [201.0, 'Unown', 'Psychic', 336.0, 48.0, 72.0, 48.0, 72.0, 48.0, 48.0], [202.0, 'Wobbuffet', 'Psychic', 405.0, 190.0, 33.0, 58.0, 33.0, 58.0, 33.0], [203.0, 'Girafarig', 'NormalPsychic', 455.0, 70.0, 80.0, 65.0, 90.0, 65.0, 85.0], [204.0, 'Pineco', 'Bug', 290.0, 50.0, 65.0, 90.0, 35.0, 35.0, 15.0], [205.0, 'Forretress', 'BugSteel', 465.0, 75.0, 90.0, 140.0, 60.0, 60.0, 40.0], [206.0, 'Dunsparce', 'Normal', 415.0, 100.0, 70.0, 70.0, 65.0, 65.0, 45.0], [207.0, 'Gligar', 'GroundFlying', 430.0, 65.0, 75.0, 105.0, 35.0, 65.0, 85.0], [208.0, 'Steelix', 'SteelGround', 510.0, 75.0, 85.0, 200.0, 55.0, 65.0, 30.0], [208.0, 'SteelixMega Steelix', 'SteelGround', 610.0, 75.0, 125.0, 230.0, 55.0, 95.0, 30.0], [209.0, 'Snubbull', 'Fairy', 300.0, 60.0, 80.0, 50.0, 40.0, 40.0, 30.0], [210.0, 'Granbull', 'Fairy', 450.0, 90.0, 120.0, 75.0, 60.0, 60.0, 45.0], [211.0, 'Qwilfish', 'WaterPoison', 430.0, 65.0, 95.0, 75.0, 55.0, 55.0, 85.0], [212.0, 'Scizor', 'BugSteel', 500.0, 70.0, 130.0, 100.0, 55.0, 80.0, 65.0], [212.0, 'ScizorMega Scizor', 'BugSteel', 600.0, 70.0, 150.0, 140.0, 65.0, 100.0, 75.0], [213.0, 'Shuckle', 'BugRock', 505.0, 20.0, 10.0, 230.0, 10.0, 230.0, 5.0], [214.0, 'Heracross', 'BugFighting', 500.0, 80.0, 125.0, 75.0, 40.0, 95.0, 85.0], [214.0, 'HeracrossMega Heracross', 'BugFighting', 600.0, 80.0, 185.0, 115.0, 40.0, 105.0, 75.0], [215.0, 'Sneasel', 'DarkIce', 430.0, 55.0, 95.0, 55.0, 35.0, 75.0, 115.0], [216.0, 'Teddiursa', 'Normal', 330.0, 60.0, 80.0, 50.0, 50.0, 50.0, 40.0], [217.0, 'Ursaring', 'Normal', 500.0, 90.0, 130.0, 75.0, 75.0, 75.0, 55.0], [218.0, 'Slugma', 'Fire', 250.0, 40.0, 40.0, 40.0, 70.0, 40.0, 20.0], [219.0, 'Magcargo', 'FireRock', 410.0, 50.0, 50.0, 120.0, 80.0, 80.0, 30.0], [220.0, 'Swinub', 'IceGround', 250.0, 50.0, 50.0, 40.0, 30.0, 30.0, 50.0], [221.0, 'Piloswine', 'IceGround', 450.0, 100.0, 100.0, 80.0, 60.0, 60.0, 50.0], [222.0, 'Corsola', 'WaterRock', 380.0, 55.0, 55.0, 85.0, 65.0, 85.0, 35.0], [223.0, 'Remoraid', 'Water', 300.0, 35.0, 65.0, 35.0, 65.0, 35.0, 65.0], [224.0, 'Octillery', 'Water', 480.0, 75.0, 105.0, 75.0, 105.0, 75.0, 45.0], [225.0, 'Delibird', 'IceFlying', 330.0, 45.0, 55.0, 45.0, 65.0, 45.0, 75.0], [226.0, 'Mantine', 'WaterFlying', 465.0, 65.0, 40.0, 70.0, 80.0, 140.0, 70.0], [227.0, 'Skarmory', 'SteelFlying', 465.0, 65.0, 80.0, 140.0, 40.0, 70.0, 70.0], [228.0, 'Houndour', 'DarkFire', 330.0, 45.0, 60.0, 30.0, 80.0, 50.0, 65.0], [229.0, 'Houndoom', 'DarkFire', 500.0, 75.0, 90.0, 50.0, 110.0, 80.0, 95.0], [229.0, 'HoundoomMega Houndoom', 'DarkFire', 600.0, 75.0, 90.0, 90.0, 140.0, 90.0, 115.0], [230.0, 'Kingdra', 'WaterDragon', 540.0, 75.0, 95.0, 95.0, 95.0, 95.0, 85.0], [231.0, 'Phanpy', 'Ground', 330.0, 90.0, 60.0, 60.0, 40.0, 40.0, 40.0], [232.0, 'Donphan', 'Ground', 500.0, 90.0, 120.0, 120.0, 60.0, 60.0, 50.0], [233.0, 'Porygon2', 'Normal', 515.0, 85.0, 80.0, 90.0, 105.0, 95.0, 60.0], [234.0, 'Stantler', 'Normal', 465.0, 73.0, 95.0, 62.0, 85.0, 65.0, 85.0], [235.0, 'Smeargle', 'Normal', 250.0, 55.0, 20.0, 35.0, 20.0, 45.0, 75.0], [236.0, 'Tyrogue', 'Fighting', 210.0, 35.0, 35.0, 35.0, 35.0, 35.0, 35.0], [237.0, 'Hitmontop', 'Fighting', 455.0, 50.0, 95.0, 95.0, 35.0, 110.0, 70.0], [238.0, 'Smoochum', 'IcePsychic', 305.0, 45.0, 30.0, 15.0, 85.0, 65.0, 65.0], [239.0, 'Elekid', 'Electric', 360.0, 45.0, 63.0, 37.0, 65.0, 55.0, 95.0], [240.0, 'Magby', 'Fire', 365.0, 45.0, 75.0, 37.0, 70.0, 55.0, 83.0], [241.0, 'Miltank', 'Normal', 490.0, 95.0, 80.0, 105.0, 40.0, 70.0, 100.0], [242.0, 'Blissey', 'Normal', 540.0, 255.0, 10.0, 10.0, 75.0, 135.0, 55.0], [243.0, 'Raikou', 'Electric', 580.0, 90.0, 85.0, 75.0, 115.0, 100.0, 115.0], [244.0, 'Entei', 'Fire', 580.0, 115.0, 115.0, 85.0, 90.0, 75.0, 100.0], [245.0, 'Suicune', 'Water', 580.0, 100.0, 75.0, 115.0, 90.0, 115.0, 85.0], [246.0, 'Larvitar', 'RockGround', 300.0, 50.0, 64.0, 50.0, 45.0, 50.0, 41.0], [247.0, 'Pupitar', 'RockGround', 410.0, 70.0, 84.0, 70.0, 65.0, 70.0, 51.0], [248.0, 'Tyranitar', 'RockDark', 600.0, 100.0, 134.0, 110.0, 95.0, 100.0, 61.0], [248.0, 'TyranitarMega Tyranitar', 'RockDark', 700.0, 100.0, 164.0, 150.0, 95.0, 120.0, 71.0], [249.0, 'Lugia', 'PsychicFlying', 680.0, 106.0, 90.0, 130.0, 90.0, 154.0, 110.0], [250.0, 'Ho-oh', 'FireFlying', 680.0, 106.0, 130.0, 90.0, 110.0, 154.0, 90.0], [251.0, 'Celebi', 'PsychicGrass', 600.0, 100.0, 100.0, 100.0, 100.0, 100.0, 100.0], [252.0, 'Treecko', 'Grass', 310.0, 40.0, 45.0, 35.0, 65.0, 55.0, 70.0], [253.0, 'Grovyle', 'Grass', 405.0, 50.0, 65.0, 45.0, 85.0, 65.0, 95.0], [254.0, 'Sceptile', 'Grass', 530.0, 70.0, 85.0, 65.0, 105.0, 85.0, 120.0], [254.0, 'SceptileMega Sceptile', 'GrassDragon', 630.0, 70.0, 110.0, 75.0, 145.0, 85.0, 145.0], [255.0, 'Torchic', 'Fire', 310.0, 45.0, 60.0, 40.0, 70.0, 50.0, 45.0], [256.0, 'Combusken', 'FireFighting', 405.0, 60.0, 85.0, 60.0, 85.0, 60.0, 55.0], [257.0, 'Blaziken', 'FireFighting', 530.0, 80.0, 120.0, 70.0, 110.0, 70.0, 80.0], [257.0, 'BlazikenMega Blaziken', 'FireFighting', 630.0, 80.0, 160.0, 80.0, 130.0, 80.0, 100.0], [258.0, 'Mudkip', 'Water', 310.0, 50.0, 70.0, 50.0, 50.0, 50.0, 40.0], [259.0, 'Marshtomp', 'WaterGround', 405.0, 70.0, 85.0, 70.0, 60.0, 70.0, 50.0], [260.0, 'Swampert', 'WaterGround', 535.0, 100.0, 110.0, 90.0, 85.0, 90.0, 60.0], [260.0, 'SwampertMega Swampert', 'WaterGround', 635.0, 100.0, 150.0, 110.0, 95.0, 110.0, 70.0], [261.0, 'Poochyena', 'Dark', 220.0, 35.0, 55.0, 35.0, 30.0, 30.0, 35.0], [262.0, 'Mightyena', 'Dark', 420.0, 70.0, 90.0, 70.0, 60.0, 60.0, 70.0], [263.0, 'Zigzagoon', 'Normal', 240.0, 38.0, 30.0, 41.0, 30.0, 41.0, 60.0], [264.0, 'Linoone', 'Normal', 420.0, 78.0, 70.0, 61.0, 50.0, 61.0, 100.0], [265.0, 'Wurmple', 'Bug', 195.0, 45.0, 45.0, 35.0, 20.0, 30.0, 20.0], [266.0, 'Silcoon', 'Bug', 205.0, 50.0, 35.0, 55.0, 25.0, 25.0, 15.0], [267.0, 'Beautifly', 'BugFlying', 395.0, 60.0, 70.0, 50.0, 100.0, 50.0, 65.0], [268.0, 'Cascoon', 'Bug', 205.0, 50.0, 35.0, 55.0, 25.0, 25.0, 15.0], [269.0, 'Dustox', 'BugPoison', 385.0, 60.0, 50.0, 70.0, 50.0, 90.0, 65.0], [270.0, 'Lotad', 'WaterGrass', 220.0, 40.0, 30.0, 30.0, 40.0, 50.0, 30.0], [271.0, 'Lombre', 'WaterGrass', 340.0, 60.0, 50.0, 50.0, 60.0, 70.0, 50.0], [272.0, 'Ludicolo', 'WaterGrass', 480.0, 80.0, 70.0, 70.0, 90.0, 100.0, 70.0], [273.0, 'Seedot', 'Grass', 220.0, 40.0, 40.0, 50.0, 30.0, 30.0, 30.0], [274.0, 'Nuzleaf', 'GrassDark', 340.0, 70.0, 70.0, 40.0, 60.0, 40.0, 60.0], [275.0, 'Shiftry', 'GrassDark', 480.0, 90.0, 100.0, 60.0, 90.0, 60.0, 80.0], [276.0, 'Taillow', 'NormalFlying', 270.0, 40.0, 55.0, 30.0, 30.0, 30.0, 85.0], [277.0, 'Swellow', 'NormalFlying', 430.0, 60.0, 85.0, 60.0, 50.0, 50.0, 125.0], [278.0, 'Wingull', 'WaterFlying', 270.0, 40.0, 30.0, 30.0, 55.0, 30.0, 85.0], [279.0, 'Pelipper', 'WaterFlying', 430.0, 60.0, 50.0, 100.0, 85.0, 70.0, 65.0], [280.0, 'Ralts', 'PsychicFairy', 198.0, 28.0, 25.0, 25.0, 45.0, 35.0, 40.0], [281.0, 'Kirlia', 'PsychicFairy', 278.0, 38.0, 35.0, 35.0, 65.0, 55.0, 50.0], [282.0, 'Gardevoir', 'PsychicFairy', 518.0, 68.0, 65.0, 65.0, 125.0, 115.0, 80.0], [282.0, 'GardevoirMega Gardevoir', 'PsychicFairy', 618.0, 68.0, 85.0, 65.0, 165.0, 135.0, 100.0], [283.0, 'Surskit', 'BugWater', 269.0, 40.0, 30.0, 32.0, 50.0, 52.0, 65.0], [284.0, 'Masquerain', 'BugFlying', 414.0, 70.0, 60.0, 62.0, 80.0, 82.0, 60.0], [285.0, 'Shroomish', 'Grass', 295.0, 60.0, 40.0, 60.0, 40.0, 60.0, 35.0], [286.0, 'Breloom', 'GrassFighting', 460.0, 60.0, 130.0, 80.0, 60.0, 60.0, 70.0], [287.0, 'Slakoth', 'Normal', 280.0, 60.0, 60.0, 60.0, 35.0, 35.0, 30.0], [288.0, 'Vigoroth', 'Normal', 440.0, 80.0, 80.0, 80.0, 55.0, 55.0, 90.0], [289.0, 'Slaking', 'Normal', 670.0, 150.0, 160.0, 100.0, 95.0, 65.0, 100.0], [290.0, 'Nincada', 'BugGround', 266.0, 31.0, 45.0, 90.0, 30.0, 30.0, 40.0], [291.0, 'Ninjask', 'BugFlying', 456.0, 61.0, 90.0, 45.0, 50.0, 50.0, 160.0], [292.0, 'Shedinja', 'BugGhost', 236.0, 1.0, 90.0, 45.0, 30.0, 30.0, 40.0], [293.0, 'Whismur', 'Normal', 240.0, 64.0, 51.0, 23.0, 51.0, 23.0, 28.0], [294.0, 'Loudred', 'Normal', 360.0, 84.0, 71.0, 43.0, 71.0, 43.0, 48.0], [295.0, 'Exploud', 'Normal', 490.0, 104.0, 91.0, 63.0, 91.0, 73.0, 68.0], [296.0, 'Makuhita', 'Fighting', 237.0, 72.0, 60.0, 30.0, 20.0, 30.0, 25.0], [297.0, 'Hariyama', 'Fighting', 474.0, 144.0, 120.0, 60.0, 40.0, 60.0, 50.0], [298.0, 'Azurill', 'NormalFairy', 190.0, 50.0, 20.0, 40.0, 20.0, 40.0, 20.0], [299.0, 'Nosepass', 'Rock', 375.0, 30.0, 45.0, 135.0, 45.0, 90.0, 30.0], [300.0, 'Skitty', 'Normal', 260.0, 50.0, 45.0, 45.0, 35.0, 35.0, 50.0], [301.0, 'Delcatty', 'Normal', 380.0, 70.0, 65.0, 65.0, 55.0, 55.0, 70.0], [302.0, 'Sableye', 'DarkGhost', 380.0, 50.0, 75.0, 75.0, 65.0, 65.0, 50.0], [302.0, 'SableyeMega Sableye', 'DarkGhost', 480.0, 50.0, 85.0, 125.0, 85.0, 115.0, 20.0], [303.0, 'Mawile', 'SteelFairy', 380.0, 50.0, 85.0, 85.0, 55.0, 55.0, 50.0], [303.0, 'MawileMega Mawile', 'SteelFairy', 480.0, 50.0, 105.0, 125.0, 55.0, 95.0, 50.0], [304.0, 'Aron', 'SteelRock', 330.0, 50.0, 70.0, 100.0, 40.0, 40.0, 30.0], [305.0, 'Lairon', 'SteelRock', 430.0, 60.0, 90.0, 140.0, 50.0, 50.0, 40.0], [306.0, 'Aggron', 'SteelRock', 530.0, 70.0, 110.0, 180.0, 60.0, 60.0, 50.0], [306.0, 'AggronMega Aggron', 'Steel', 630.0, 70.0, 140.0, 230.0, 60.0, 80.0, 50.0], [307.0, 'Meditite', 'FightingPsychic', 280.0, 30.0, 40.0, 55.0, 40.0, 55.0, 60.0], [308.0, 'Medicham', 'FightingPsychic', 410.0, 60.0, 60.0, 75.0, 60.0, 75.0, 80.0], [308.0, 'MedichamMega Medicham', 'FightingPsychic', 510.0, 60.0, 100.0, 85.0, 80.0, 85.0, 100.0], [309.0, 'Electrike', 'Electric', 295.0, 40.0, 45.0, 40.0, 65.0, 40.0, 65.0], [310.0, 'Manectric', 'Electric', 475.0, 70.0, 75.0, 60.0, 105.0, 60.0, 105.0], [310.0, 'ManectricMega Manectric', 'Electric', 575.0, 70.0, 75.0, 80.0, 135.0, 80.0, 135.0], [311.0, 'Plusle', 'Electric', 405.0, 60.0, 50.0, 40.0, 85.0, 75.0, 95.0], [312.0, 'Minun', 'Electric', 405.0, 60.0, 40.0, 50.0, 75.0, 85.0, 95.0], [313.0, 'Volbeat', 'Bug', 400.0, 65.0, 73.0, 55.0, 47.0, 75.0, 85.0], [314.0, 'Illumise', 'Bug', 400.0, 65.0, 47.0, 55.0, 73.0, 75.0, 85.0], [315.0, 'Roselia', 'GrassPoison', 400.0, 50.0, 60.0, 45.0, 100.0, 80.0, 65.0], [316.0, 'Gulpin', 'Poison', 302.0, 70.0, 43.0, 53.0, 43.0, 53.0, 40.0], [317.0, 'Swalot', 'Poison', 467.0, 100.0, 73.0, 83.0, 73.0, 83.0, 55.0], [318.0, 'Carvanha', 'WaterDark', 305.0, 45.0, 90.0, 20.0, 65.0, 20.0, 65.0], [319.0, 'Sharpedo', 'WaterDark', 460.0, 70.0, 120.0, 40.0, 95.0, 40.0, 95.0], [319.0, 'SharpedoMega Sharpedo', 'WaterDark', 560.0, 70.0, 140.0, 70.0, 110.0, 65.0, 105.0], [320.0, 'Wailmer', 'Water', 400.0, 130.0, 70.0, 35.0, 70.0, 35.0, 60.0], [321.0, 'Wailord', 'Water', 500.0, 170.0, 90.0, 45.0, 90.0, 45.0, 60.0], [322.0, 'Numel', 'FireGround', 305.0, 60.0, 60.0, 40.0, 65.0, 45.0, 35.0], [323.0, 'Camerupt', 'FireGround', 460.0, 70.0, 100.0, 70.0, 105.0, 75.0, 40.0], [323.0, 'CameruptMega Camerupt', 'FireGround', 560.0, 70.0, 120.0, 100.0, 145.0, 105.0, 20.0], [324.0, 'Torkoal', 'Fire', 470.0, 70.0, 85.0, 140.0, 85.0, 70.0, 20.0], [325.0, 'Spoink', 'Psychic', 330.0, 60.0, 25.0, 35.0, 70.0, 80.0, 60.0], [326.0, 'Grumpig', 'Psychic', 470.0, 80.0, 45.0, 65.0, 90.0, 110.0, 80.0], [327.0, 'Spinda', 'Normal', 360.0, 60.0, 60.0, 60.0, 60.0, 60.0, 60.0], [328.0, 'Trapinch', 'Ground', 290.0, 45.0, 100.0, 45.0, 45.0, 45.0, 10.0], [329.0, 'Vibrava', 'GroundDragon', 340.0, 50.0, 70.0, 50.0, 50.0, 50.0, 70.0], [330.0, 'Flygon', 'GroundDragon', 520.0, 80.0, 100.0, 80.0, 80.0, 80.0, 100.0], [331.0, 'Cacnea', 'Grass', 335.0, 50.0, 85.0, 40.0, 85.0, 40.0, 35.0], [332.0, 'Cacturne', 'GrassDark', 475.0, 70.0, 115.0, 60.0, 115.0, 60.0, 55.0], [333.0, 'Swablu', 'NormalFlying', 310.0, 45.0, 40.0, 60.0, 40.0, 75.0, 50.0], [334.0, 'Altaria', 'DragonFlying', 490.0, 75.0, 70.0, 90.0, 70.0, 105.0, 80.0], [334.0, 'AltariaMega Altaria', 'DragonFairy', 590.0, 75.0, 110.0, 110.0, 110.0, 105.0, 80.0], [335.0, 'Zangoose', 'Normal', 458.0, 73.0, 115.0, 60.0, 60.0, 60.0, 90.0], [336.0, 'Seviper', 'Poison', 458.0, 73.0, 100.0, 60.0, 100.0, 60.0, 65.0], [337.0, 'Lunatone', 'RockPsychic', 440.0, 70.0, 55.0, 65.0, 95.0, 85.0, 70.0], [338.0, 'Solrock', 'RockPsychic', 440.0, 70.0, 95.0, 85.0, 55.0, 65.0, 70.0], [339.0, 'Barboach', 'WaterGround', 288.0, 50.0, 48.0, 43.0, 46.0, 41.0, 60.0], [340.0, 'Whiscash', 'WaterGround', 468.0, 110.0, 78.0, 73.0, 76.0, 71.0, 60.0], [341.0, 'Corphish', 'Water', 308.0, 43.0, 80.0, 65.0, 50.0, 35.0, 35.0], [342.0, 'Crawdaunt', 'WaterDark', 468.0, 63.0, 120.0, 85.0, 90.0, 55.0, 55.0], [343.0, 'Baltoy', 'GroundPsychic', 300.0, 40.0, 40.0, 55.0, 40.0, 70.0, 55.0], [344.0, 'Claydol', 'GroundPsychic', 500.0, 60.0, 70.0, 105.0, 70.0, 120.0, 75.0], [345.0, 'Lileep', 'RockGrass', 355.0, 66.0, 41.0, 77.0, 61.0, 87.0, 23.0], [346.0, 'Cradily', 'RockGrass', 495.0, 86.0, 81.0, 97.0, 81.0, 107.0, 43.0], [347.0, 'Anorith', 'RockBug', 355.0, 45.0, 95.0, 50.0, 40.0, 50.0, 75.0], [348.0, 'Armaldo', 'RockBug', 495.0, 75.0, 125.0, 100.0, 70.0, 80.0, 45.0], [349.0, 'Feebas', 'Water', 200.0, 20.0, 15.0, 20.0, 10.0, 55.0, 80.0], [350.0, 'Milotic', 'Water', 540.0, 95.0, 60.0, 79.0, 100.0, 125.0, 81.0], [351.0, 'Castform', 'Normal', 420.0, 70.0, 70.0, 70.0, 70.0, 70.0, 70.0], [352.0, 'Kecleon', 'Normal', 440.0, 60.0, 90.0, 70.0, 60.0, 120.0, 40.0], [353.0, 'Shuppet', 'Ghost', 295.0, 44.0, 75.0, 35.0, 63.0, 33.0, 45.0], [354.0, 'Banette', 'Ghost', 455.0, 64.0, 115.0, 65.0, 83.0, 63.0, 65.0], [354.0, 'BanetteMega Banette', 'Ghost', 555.0, 64.0, 165.0, 75.0, 93.0, 83.0, 75.0], [355.0, 'Duskull', 'Ghost', 295.0, 20.0, 40.0, 90.0, 30.0, 90.0, 25.0], [356.0, 'Dusclops', 'Ghost', 455.0, 40.0, 70.0, 130.0, 60.0, 130.0, 25.0], [357.0, 'Tropius', 'GrassFlying', 460.0, 99.0, 68.0, 83.0, 72.0, 87.0, 51.0], [358.0, 'Chimecho', 'Psychic', 425.0, 65.0, 50.0, 70.0, 95.0, 80.0, 65.0], [359.0, 'Absol', 'Dark', 465.0, 65.0, 130.0, 60.0, 75.0, 60.0, 75.0], [359.0, 'AbsolMega Absol', 'Dark', 565.0, 65.0, 150.0, 60.0, 115.0, 60.0, 115.0], [360.0, 'Wynaut', 'Psychic', 260.0, 95.0, 23.0, 48.0, 23.0, 48.0, 23.0], [361.0, 'Snorunt', 'Ice', 300.0, 50.0, 50.0, 50.0, 50.0, 50.0, 50.0], [362.0, 'Glalie', 'Ice', 480.0, 80.0, 80.0, 80.0, 80.0, 80.0, 80.0], [362.0, 'GlalieMega Glalie', 'Ice', 580.0, 80.0, 120.0, 80.0, 120.0, 80.0, 100.0], [363.0, 'Spheal', 'IceWater', 290.0, 70.0, 40.0, 50.0, 55.0, 50.0, 25.0], [364.0, 'Sealeo', 'IceWater', 410.0, 90.0, 60.0, 70.0, 75.0, 70.0, 45.0], [365.0, 'Walrein', 'IceWater', 530.0, 110.0, 80.0, 90.0, 95.0, 90.0, 65.0], [366.0, 'Clamperl', 'Water', 345.0, 35.0, 64.0, 85.0, 74.0, 55.0, 32.0], [367.0, 'Huntail', 'Water', 485.0, 55.0, 104.0, 105.0, 94.0, 75.0, 52.0], [368.0, 'Gorebyss', 'Water', 485.0, 55.0, 84.0, 105.0, 114.0, 75.0, 52.0], [369.0, 'Relicanth', 'WaterRock', 485.0, 100.0, 90.0, 130.0, 45.0, 65.0, 55.0], [370.0, 'Luvdisc', 'Water', 330.0, 43.0, 30.0, 55.0, 40.0, 65.0, 97.0], [371.0, 'Bagon', 'Dragon', 300.0, 45.0, 75.0, 60.0, 40.0, 30.0, 50.0], [372.0, 'Shelgon', 'Dragon', 420.0, 65.0, 95.0, 100.0, 60.0, 50.0, 50.0], [373.0, 'Salamence', 'DragonFlying', 600.0, 95.0, 135.0, 80.0, 110.0, 80.0, 100.0], [373.0, 'SalamenceMega Salamence', 'DragonFlying', 700.0, 95.0, 145.0, 130.0, 120.0, 90.0, 120.0], [374.0, 'Beldum', 'SteelPsychic', 300.0, 40.0, 55.0, 80.0, 35.0, 60.0, 30.0], [375.0, 'Metang', 'SteelPsychic', 420.0, 60.0, 75.0, 100.0, 55.0, 80.0, 50.0], [376.0, 'Metagross', 'SteelPsychic', 600.0, 80.0, 135.0, 130.0, 95.0, 90.0, 70.0], [376.0, 'MetagrossMega Metagross', 'SteelPsychic', 700.0, 80.0, 145.0, 150.0, 105.0, 110.0, 110.0], [377.0, 'Regirock', 'Rock', 580.0, 80.0, 100.0, 200.0, 50.0, 100.0, 50.0], [378.0, 'Regice', 'Ice', 580.0, 80.0, 50.0, 100.0, 100.0, 200.0, 50.0], [379.0, 'Registeel', 'Steel', 580.0, 80.0, 75.0, 150.0, 75.0, 150.0, 50.0], [380.0, 'Latias', 'DragonPsychic', 600.0, 80.0, 80.0, 90.0, 110.0, 130.0, 110.0], [380.0, 'LatiasMega Latias', 'DragonPsychic', 700.0, 80.0, 100.0, 120.0, 140.0, 150.0, 110.0], [381.0, 'Latios', 'DragonPsychic', 600.0, 80.0, 90.0, 80.0, 130.0, 110.0, 110.0], [381.0, 'LatiosMega Latios', 'DragonPsychic', 700.0, 80.0, 130.0, 100.0, 160.0, 120.0, 110.0], [382.0, 'Kyogre', 'Water', 670.0, 100.0, 100.0, 90.0, 150.0, 140.0, 90.0], [382.0, 'KyogrePrimal Kyogre', 'Water', 770.0, 100.0, 150.0, 90.0, 180.0, 160.0, 90.0], [383.0, 'Groudon', 'Ground', 670.0, 100.0, 150.0, 140.0, 100.0, 90.0, 90.0], [383.0, 'GroudonPrimal Groudon', 'GroundFire', 770.0, 100.0, 180.0, 160.0, 150.0, 90.0, 90.0], [384.0, 'Rayquaza', 'DragonFlying', 680.0, 105.0, 150.0, 90.0, 150.0, 90.0, 95.0], [384.0, 'RayquazaMega Rayquaza', 'DragonFlying', 780.0, 105.0, 180.0, 100.0, 180.0, 100.0, 115.0], [385.0, 'Jirachi', 'SteelPsychic', 600.0, 100.0, 100.0, 100.0, 100.0, 100.0, 100.0], [386.0, 'DeoxysNormal Forme', 'Psychic', 600.0, 50.0, 150.0, 50.0, 150.0, 50.0, 150.0], [386.0, 'DeoxysAttack Forme', 'Psychic', 600.0, 50.0, 180.0, 20.0, 180.0, 20.0, 150.0], [386.0, 'DeoxysDefense Forme', 'Psychic', 600.0, 50.0, 70.0, 160.0, 70.0, 160.0, 90.0], [386.0, 'DeoxysSpeed Forme', 'Psychic', 600.0, 50.0, 95.0, 90.0, 95.0, 90.0, 180.0], [387.0, 'Turtwig', 'Grass', 318.0, 55.0, 68.0, 64.0, 45.0, 55.0, 31.0], [388.0, 'Grotle', 'Grass', 405.0, 75.0, 89.0, 85.0, 55.0, 65.0, 36.0], [389.0, 'Torterra', 'GrassGround', 525.0, 95.0, 109.0, 105.0, 75.0, 85.0, 56.0], [390.0, 'Chimchar', 'Fire', 309.0, 44.0, 58.0, 44.0, 58.0, 44.0, 61.0], [391.0, 'Monferno', 'FireFighting', 405.0, 64.0, 78.0, 52.0, 78.0, 52.0, 81.0], [392.0, 'Infernape', 'FireFighting', 534.0, 76.0, 104.0, 71.0, 104.0, 71.0, 108.0], [393.0, 'Piplup', 'Water', 314.0, 53.0, 51.0, 53.0, 61.0, 56.0, 40.0], [394.0, 'Prinplup', 'Water', 405.0, 64.0, 66.0, 68.0, 81.0, 76.0, 50.0], [395.0, 'Empoleon', 'WaterSteel', 530.0, 84.0, 86.0, 88.0, 111.0, 101.0, 60.0], [396.0, 'Starly', 'NormalFlying', 245.0, 40.0, 55.0, 30.0, 30.0, 30.0, 60.0], [397.0, 'Staravia', 'NormalFlying', 340.0, 55.0, 75.0, 50.0, 40.0, 40.0, 80.0], [398.0, 'Staraptor', 'NormalFlying', 485.0, 85.0, 120.0, 70.0, 50.0, 60.0, 100.0], [399.0, 'Bidoof', 'Normal', 250.0, 59.0, 45.0, 40.0, 35.0, 40.0, 31.0], [400.0, 'Bibarel', 'NormalWater', 410.0, 79.0, 85.0, 60.0, 55.0, 60.0, 71.0], [401.0, 'Kricketot', 'Bug', 194.0, 37.0, 25.0, 41.0, 25.0, 41.0, 25.0], [402.0, 'Kricketune', 'Bug', 384.0, 77.0, 85.0, 51.0, 55.0, 51.0, 65.0], [403.0, 'Shinx', 'Electric', 263.0, 45.0, 65.0, 34.0, 40.0, 34.0, 45.0], [404.0, 'Luxio', 'Electric', 363.0, 60.0, 85.0, 49.0, 60.0, 49.0, 60.0], [405.0, 'Luxray', 'Electric', 523.0, 80.0, 120.0, 79.0, 95.0, 79.0, 70.0], [406.0, 'Budew', 'GrassPoison', 280.0, 40.0, 30.0, 35.0, 50.0, 70.0, 55.0], [407.0, 'Roserade', 'GrassPoison', 515.0, 60.0, 70.0, 65.0, 125.0, 105.0, 90.0], [408.0, 'Cranidos', 'Rock', 350.0, 67.0, 125.0, 40.0, 30.0, 30.0, 58.0], [409.0, 'Rampardos', 'Rock', 495.0, 97.0, 165.0, 60.0, 65.0, 50.0, 58.0], [410.0, 'Shieldon', 'RockSteel', 350.0, 30.0, 42.0, 118.0, 42.0, 88.0, 30.0], [411.0, 'Bastiodon', 'RockSteel', 495.0, 60.0, 52.0, 168.0, 47.0, 138.0, 30.0], [412.0, 'Burmy', 'Bug', 224.0, 40.0, 29.0, 45.0, 29.0, 45.0, 36.0], [413.0, 'WormadamPlant Cloak', 'BugGrass', 424.0, 60.0, 59.0, 85.0, 79.0, 105.0, 36.0], [413.0, 'WormadamSandy Cloak', 'BugGround', 424.0, 60.0, 79.0, 105.0, 59.0, 85.0, 36.0], [413.0, 'WormadamTrash Cloak', 'BugSteel', 424.0, 60.0, 69.0, 95.0, 69.0, 95.0, 36.0], [414.0, 'Mothim', 'BugFlying', 424.0, 70.0, 94.0, 50.0, 94.0, 50.0, 66.0], [415.0, 'Combee', 'BugFlying', 244.0, 30.0, 30.0, 42.0, 30.0, 42.0, 70.0], [416.0, 'Vespiquen', 'BugFlying', 474.0, 70.0, 80.0, 102.0, 80.0, 102.0, 40.0], [417.0, 'Pachirisu', 'Electric', 405.0, 60.0, 45.0, 70.0, 45.0, 90.0, 95.0], [418.0, 'Buizel', 'Water', 330.0, 55.0, 65.0, 35.0, 60.0, 30.0, 85.0], [419.0, 'Floatzel', 'Water', 495.0, 85.0, 105.0, 55.0, 85.0, 50.0, 115.0], [420.0, 'Cherubi', 'Grass', 275.0, 45.0, 35.0, 45.0, 62.0, 53.0, 35.0], [421.0, 'Cherrim', 'Grass', 450.0, 70.0, 60.0, 70.0, 87.0, 78.0, 85.0], [422.0, 'Shellos', 'Water', 325.0, 76.0, 48.0, 48.0, 57.0, 62.0, 34.0], [423.0, 'Gastrodon', 'WaterGround', 475.0, 111.0, 83.0, 68.0, 92.0, 82.0, 39.0], [424.0, 'Ambipom', 'Normal', 482.0, 75.0, 100.0, 66.0, 60.0, 66.0, 115.0], [425.0, 'Drifloon', 'GhostFlying', 348.0, 90.0, 50.0, 34.0, 60.0, 44.0, 70.0], [426.0, 'Drifblim', 'GhostFlying', 498.0, 150.0, 80.0, 44.0, 90.0, 54.0, 80.0], [427.0, 'Buneary', 'Normal', 350.0, 55.0, 66.0, 44.0, 44.0, 56.0, 85.0], [428.0, 'Lopunny', 'Normal', 480.0, 65.0, 76.0, 84.0, 54.0, 96.0, 105.0], [428.0, 'LopunnyMega Lopunny', 'NormalFighting', 580.0, 65.0, 136.0, 94.0, 54.0, 96.0, 135.0], [429.0, 'Mismagius', 'Ghost', 495.0, 60.0, 60.0, 60.0, 105.0, 105.0, 105.0], [430.0, 'Honchkrow', 'DarkFlying', 505.0, 100.0, 125.0, 52.0, 105.0, 52.0, 71.0], [431.0, 'Glameow', 'Normal', 310.0, 49.0, 55.0, 42.0, 42.0, 37.0, 85.0], [432.0, 'Purugly', 'Normal', 452.0, 71.0, 82.0, 64.0, 64.0, 59.0, 112.0], [433.0, 'Chingling', 'Psychic', 285.0, 45.0, 30.0, 50.0, 65.0, 50.0, 45.0], [434.0, 'Stunky', 'PoisonDark', 329.0, 63.0, 63.0, 47.0, 41.0, 41.0, 74.0], [435.0, 'Skuntank', 'PoisonDark', 479.0, 103.0, 93.0, 67.0, 71.0, 61.0, 84.0], [436.0, 'Bronzor', 'SteelPsychic', 300.0, 57.0, 24.0, 86.0, 24.0, 86.0, 23.0], [437.0, 'Bronzong', 'SteelPsychic', 500.0, 67.0, 89.0, 116.0, 79.0, 116.0, 33.0], [438.0, 'Bonsly', 'Rock', 290.0, 50.0, 80.0, 95.0, 10.0, 45.0, 10.0], [439.0, 'Mime Jr.', 'PsychicFairy', 310.0, 20.0, 25.0, 45.0, 70.0, 90.0, 60.0], [440.0, 'Happiny', 'Normal', 220.0, 100.0, 5.0, 5.0, 15.0, 65.0, 30.0], [441.0, 'Chatot', 'NormalFlying', 411.0, 76.0, 65.0, 45.0, 92.0, 42.0, 91.0], [442.0, 'Spiritomb', 'GhostDark', 485.0, 50.0, 92.0, 108.0, 92.0, 108.0, 35.0], [443.0, 'Gible', 'DragonGround', 300.0, 58.0, 70.0, 45.0, 40.0, 45.0, 42.0], [444.0, 'Gabite', 'DragonGround', 410.0, 68.0, 90.0, 65.0, 50.0, 55.0, 82.0], [445.0, 'Garchomp', 'DragonGround', 600.0, 108.0, 130.0, 95.0, 80.0, 85.0, 102.0], [445.0, 'GarchompMega Garchomp', 'DragonGround', 700.0, 108.0, 170.0, 115.0, 120.0, 95.0, 92.0], [446.0, 'Munchlax', 'Normal', 390.0, 135.0, 85.0, 40.0, 40.0, 85.0, 5.0], [447.0, 'Riolu', 'Fighting', 285.0, 40.0, 70.0, 40.0, 35.0, 40.0, 60.0], [448.0, 'Lucario', 'FightingSteel', 525.0, 70.0, 110.0, 70.0, 115.0, 70.0, 90.0], [448.0, 'LucarioMega Lucario', 'FightingSteel', 625.0, 70.0, 145.0, 88.0, 140.0, 70.0, 112.0], [449.0, 'Hippopotas', 'Ground', 330.0, 68.0, 72.0, 78.0, 38.0, 42.0, 32.0], [450.0, 'Hippowdon', 'Ground', 525.0, 108.0, 112.0, 118.0, 68.0, 72.0, 47.0], [451.0, 'Skorupi', 'PoisonBug', 330.0, 40.0, 50.0, 90.0, 30.0, 55.0, 65.0], [452.0, 'Drapion', 'PoisonDark', 500.0, 70.0, 90.0, 110.0, 60.0, 75.0, 95.0], [453.0, 'Croagunk', 'PoisonFighting', 300.0, 48.0, 61.0, 40.0, 61.0, 40.0, 50.0], [454.0, 'Toxicroak', 'PoisonFighting', 490.0, 83.0, 106.0, 65.0, 86.0, 65.0, 85.0], [455.0, 'Carnivine', 'Grass', 454.0, 74.0, 100.0, 72.0, 90.0, 72.0, 46.0], [456.0, 'Finneon', 'Water', 330.0, 49.0, 49.0, 56.0, 49.0, 61.0, 66.0], [457.0, 'Lumineon', 'Water', 460.0, 69.0, 69.0, 76.0, 69.0, 86.0, 91.0], [458.0, 'Mantyke', 'WaterFlying', 345.0, 45.0, 20.0, 50.0, 60.0, 120.0, 50.0], [459.0, 'Snover', 'GrassIce', 334.0, 60.0, 62.0, 50.0, 62.0, 60.0, 40.0], [460.0, 'Abomasnow', 'GrassIce', 494.0, 90.0, 92.0, 75.0, 92.0, 85.0, 60.0], [460.0, 'AbomasnowMega Abomasnow', 'GrassIce', 594.0, 90.0, 132.0, 105.0, 132.0, 105.0, 30.0], [461.0, 'Weavile', 'DarkIce', 510.0, 70.0, 120.0, 65.0, 45.0, 85.0, 125.0], [462.0, 'Magnezone', 'ElectricSteel', 535.0, 70.0, 70.0, 115.0, 130.0, 90.0, 60.0], [463.0, 'Lickilicky', 'Normal', 515.0, 110.0, 85.0, 95.0, 80.0, 95.0, 50.0], [464.0, 'Rhyperior', 'GroundRock', 535.0, 115.0, 140.0, 130.0, 55.0, 55.0, 40.0], [465.0, 'Tangrowth', 'Grass', 535.0, 100.0, 100.0, 125.0, 110.0, 50.0, 50.0], [466.0, 'Electivire', 'Electric', 540.0, 75.0, 123.0, 67.0, 95.0, 85.0, 95.0], [467.0, 'Magmortar', 'Fire', 540.0, 75.0, 95.0, 67.0, 125.0, 95.0, 83.0], [468.0, 'Togekiss', 'FairyFlying', 545.0, 85.0, 50.0, 95.0, 120.0, 115.0, 80.0], [469.0, 'Yanmega', 'BugFlying', 515.0, 86.0, 76.0, 86.0, 116.0, 56.0, 95.0], [470.0, 'Leafeon', 'Grass', 525.0, 65.0, 110.0, 130.0, 60.0, 65.0, 95.0], [471.0, 'Glaceon', 'Ice', 525.0, 65.0, 60.0, 110.0, 130.0, 95.0, 65.0], [472.0, 'Gliscor', 'GroundFlying', 510.0, 75.0, 95.0, 125.0, 45.0, 75.0, 95.0], [473.0, 'Mamoswine', 'IceGround', 530.0, 110.0, 130.0, 80.0, 70.0, 60.0, 80.0], [474.0, 'Porygon-Z', 'Normal', 535.0, 85.0, 80.0, 70.0, 135.0, 75.0, 90.0], [475.0, 'Gallade', 'PsychicFighting', 518.0, 68.0, 125.0, 65.0, 65.0, 115.0, 80.0], [475.0, 'GalladeMega Gallade', 'PsychicFighting', 618.0, 68.0, 165.0, 95.0, 65.0, 115.0, 110.0], [476.0, 'Probopass', 'RockSteel', 525.0, 60.0, 55.0, 145.0, 75.0, 150.0, 40.0], [477.0, 'Dusknoir', 'Ghost', 525.0, 45.0, 100.0, 135.0, 65.0, 135.0, 45.0], [478.0, 'Froslass', 'IceGhost', 480.0, 70.0, 80.0, 70.0, 80.0, 70.0, 110.0], [479.0, 'Rotom', 'ElectricGhost', 440.0, 50.0, 50.0, 77.0, 95.0, 77.0, 91.0], [479.0, 'RotomHeat Rotom', 'ElectricFire', 520.0, 50.0, 65.0, 107.0, 105.0, 107.0, 86.0], [479.0, 'RotomWash Rotom', 'ElectricWater', 520.0, 50.0, 65.0, 107.0, 105.0, 107.0, 86.0], [479.0, 'RotomFrost Rotom', 'ElectricIce', 520.0, 50.0, 65.0, 107.0, 105.0, 107.0, 86.0], [479.0, 'RotomFan Rotom', 'ElectricFlying', 520.0, 50.0, 65.0, 107.0, 105.0, 107.0, 86.0], [479.0, 'RotomMow Rotom', 'ElectricGrass', 520.0, 50.0, 65.0, 107.0, 105.0, 107.0, 86.0], [480.0, 'Uxie', 'Psychic', 580.0, 75.0, 75.0, 130.0, 75.0, 130.0, 95.0], [481.0, 'Mesprit', 'Psychic', 580.0, 80.0, 105.0, 105.0, 105.0, 105.0, 80.0], [482.0, 'Azelf', 'Psychic', 580.0, 75.0, 125.0, 70.0, 125.0, 70.0, 115.0], [483.0, 'Dialga', 'SteelDragon', 680.0, 100.0, 120.0, 120.0, 150.0, 100.0, 90.0], [484.0, 'Palkia', 'WaterDragon', 680.0, 90.0, 120.0, 100.0, 150.0, 120.0, 100.0], [485.0, 'Heatran', 'FireSteel', 600.0, 91.0, 90.0, 106.0, 130.0, 106.0, 77.0], [486.0, 'Regigigas', 'Normal', 670.0, 110.0, 160.0, 110.0, 80.0, 110.0, 100.0], [487.0, 'GiratinaAltered Forme', 'GhostDragon', 680.0, 150.0, 100.0, 120.0, 100.0, 120.0, 90.0], [487.0, 'GiratinaOrigin Forme', 'GhostDragon', 680.0, 150.0, 120.0, 100.0, 120.0, 100.0, 90.0], [488.0, 'Cresselia', 'Psychic', 600.0, 120.0, 70.0, 120.0, 75.0, 130.0, 85.0], [489.0, 'Phione', 'Water', 480.0, 80.0, 80.0, 80.0, 80.0, 80.0, 80.0], [490.0, 'Manaphy', 'Water', 600.0, 100.0, 100.0, 100.0, 100.0, 100.0, 100.0], [491.0, 'Darkrai', 'Dark', 600.0, 70.0, 90.0, 90.0, 135.0, 90.0, 125.0], [492.0, 'ShayminLand Forme', 'Grass', 600.0, 100.0, 100.0, 100.0, 100.0, 100.0, 100.0], [492.0, 'ShayminSky Forme', 'GrassFlying', 600.0, 100.0, 103.0, 75.0, 120.0, 75.0, 127.0], [493.0, 'Arceus', 'Normal', 720.0, 120.0, 120.0, 120.0, 120.0, 120.0, 120.0], [494.0, 'Victini', 'PsychicFire', 600.0, 100.0, 100.0, 100.0, 100.0, 100.0, 100.0], [495.0, 'Snivy', 'Grass', 308.0, 45.0, 45.0, 55.0, 45.0, 55.0, 63.0], [496.0, 'Servine', 'Grass', 413.0, 60.0, 60.0, 75.0, 60.0, 75.0, 83.0], [497.0, 'Serperior', 'Grass', 528.0, 75.0, 75.0, 95.0, 75.0, 95.0, 113.0], [498.0, 'Tepig', 'Fire', 308.0, 65.0, 63.0, 45.0, 45.0, 45.0, 45.0], [499.0, 'Pignite', 'FireFighting', 418.0, 90.0, 93.0, 55.0, 70.0, 55.0, 55.0], [500.0, 'Emboar', 'FireFighting', 528.0, 110.0, 123.0, 65.0, 100.0, 65.0, 65.0], [501.0, 'Oshawott', 'Water', 308.0, 55.0, 55.0, 45.0, 63.0, 45.0, 45.0], [502.0, 'Dewott', 'Water', 413.0, 75.0, 75.0, 60.0, 83.0, 60.0, 60.0], [503.0, 'Samurott', 'Water', 528.0, 95.0, 100.0, 85.0, 108.0, 70.0, 70.0], [504.0, 'Patrat', 'Normal', 255.0, 45.0, 55.0, 39.0, 35.0, 39.0, 42.0], [505.0, 'Watchog', 'Normal', 420.0, 60.0, 85.0, 69.0, 60.0, 69.0, 77.0], [506.0, 'Lillipup', 'Normal', 275.0, 45.0, 60.0, 45.0, 25.0, 45.0, 55.0], [507.0, 'Herdier', 'Normal', 370.0, 65.0, 80.0, 65.0, 35.0, 65.0, 60.0], [508.0, 'Stoutland', 'Normal', 500.0, 85.0, 110.0, 90.0, 45.0, 90.0, 80.0], [509.0, 'Purrloin', 'Dark', 281.0, 41.0, 50.0, 37.0, 50.0, 37.0, 66.0], [510.0, 'Liepard', 'Dark', 446.0, 64.0, 88.0, 50.0, 88.0, 50.0, 106.0], [511.0, 'Pansage', 'Grass', 316.0, 50.0, 53.0, 48.0, 53.0, 48.0, 64.0], [512.0, 'Simisage', 'Grass', 498.0, 75.0, 98.0, 63.0, 98.0, 63.0, 101.0], [513.0, 'Pansear', 'Fire', 316.0, 50.0, 53.0, 48.0, 53.0, 48.0, 64.0], [514.0, 'Simisear', 'Fire', 498.0, 75.0, 98.0, 63.0, 98.0, 63.0, 101.0], [515.0, 'Panpour', 'Water', 316.0, 50.0, 53.0, 48.0, 53.0, 48.0, 64.0], [516.0, 'Simipour', 'Water', 498.0, 75.0, 98.0, 63.0, 98.0, 63.0, 101.0], [517.0, 'Munna', 'Psychic', 292.0, 76.0, 25.0, 45.0, 67.0, 55.0, 24.0], [518.0, 'Musharna', 'Psychic', 487.0, 116.0, 55.0, 85.0, 107.0, 95.0, 29.0], [519.0, 'Pidove', 'NormalFlying', 264.0, 50.0, 55.0, 50.0, 36.0, 30.0, 43.0], [520.0, 'Tranquill', 'NormalFlying', 358.0, 62.0, 77.0, 62.0, 50.0, 42.0, 65.0], [521.0, 'Unfezant', 'NormalFlying', 488.0, 80.0, 115.0, 80.0, 65.0, 55.0, 93.0], [522.0, 'Blitzle', 'Electric', 295.0, 45.0, 60.0, 32.0, 50.0, 32.0, 76.0], [523.0, 'Zebstrika', 'Electric', 497.0, 75.0, 100.0, 63.0, 80.0, 63.0, 116.0], [524.0, 'Roggenrola', 'Rock', 280.0, 55.0, 75.0, 85.0, 25.0, 25.0, 15.0], [525.0, 'Boldore', 'Rock', 390.0, 70.0, 105.0, 105.0, 50.0, 40.0, 20.0], [526.0, 'Gigalith', 'Rock', 515.0, 85.0, 135.0, 130.0, 60.0, 80.0, 25.0], [527.0, 'Woobat', 'PsychicFlying', 313.0, 55.0, 45.0, 43.0, 55.0, 43.0, 72.0], [528.0, 'Swoobat', 'PsychicFlying', 425.0, 67.0, 57.0, 55.0, 77.0, 55.0, 114.0], [529.0, 'Drilbur', 'Ground', 328.0, 60.0, 85.0, 40.0, 30.0, 45.0, 68.0], [530.0, 'Excadrill', 'GroundSteel', 508.0, 110.0, 135.0, 60.0, 50.0, 65.0, 88.0], [531.0, 'Audino', 'Normal', 445.0, 103.0, 60.0, 86.0, 60.0, 86.0, 50.0], [531.0, 'AudinoMega Audino', 'NormalFairy', 545.0, 103.0, 60.0, 126.0, 80.0, 126.0, 50.0], [532.0, 'Timburr', 'Fighting', 305.0, 75.0, 80.0, 55.0, 25.0, 35.0, 35.0], [533.0, 'Gurdurr', 'Fighting', 405.0, 85.0, 105.0, 85.0, 40.0, 50.0, 40.0], [534.0, 'Conkeldurr', 'Fighting', 505.0, 105.0, 140.0, 95.0, 55.0, 65.0, 45.0], [535.0, 'Tympole', 'Water', 294.0, 50.0, 50.0, 40.0, 50.0, 40.0, 64.0], [536.0, 'Palpitoad', 'WaterGround', 384.0, 75.0, 65.0, 55.0, 65.0, 55.0, 69.0], [537.0, 'Seismitoad', 'WaterGround', 509.0, 105.0, 95.0, 75.0, 85.0, 75.0, 74.0], [538.0, 'Throh', 'Fighting', 465.0, 120.0, 100.0, 85.0, 30.0, 85.0, 45.0], [539.0, 'Sawk', 'Fighting', 465.0, 75.0, 125.0, 75.0, 30.0, 75.0, 85.0], [540.0, 'Sewaddle', 'BugGrass', 310.0, 45.0, 53.0, 70.0, 40.0, 60.0, 42.0], [541.0, 'Swadloon', 'BugGrass', 380.0, 55.0, 63.0, 90.0, 50.0, 80.0, 42.0], [542.0, 'Leavanny', 'BugGrass', 500.0, 75.0, 103.0, 80.0, 70.0, 80.0, 92.0], [543.0, 'Venipede', 'BugPoison', 260.0, 30.0, 45.0, 59.0, 30.0, 39.0, 57.0], [544.0, 'Whirlipede', 'BugPoison', 360.0, 40.0, 55.0, 99.0, 40.0, 79.0, 47.0], [545.0, 'Scolipede', 'BugPoison', 485.0, 60.0, 100.0, 89.0, 55.0, 69.0, 112.0], [546.0, 'Cottonee', 'GrassFairy', 280.0, 40.0, 27.0, 60.0, 37.0, 50.0, 66.0], [547.0, 'Whimsicott', 'GrassFairy', 480.0, 60.0, 67.0, 85.0, 77.0, 75.0, 116.0], [548.0, 'Petilil', 'Grass', 280.0, 45.0, 35.0, 50.0, 70.0, 50.0, 30.0], [549.0, 'Lilligant', 'Grass', 480.0, 70.0, 60.0, 75.0, 110.0, 75.0, 90.0], [550.0, 'Basculin', 'Water', 460.0, 70.0, 92.0, 65.0, 80.0, 55.0, 98.0], [551.0, 'Sandile', 'GroundDark', 292.0, 50.0, 72.0, 35.0, 35.0, 35.0, 65.0], [552.0, 'Krokorok', 'GroundDark', 351.0, 60.0, 82.0, 45.0, 45.0, 45.0, 74.0], [553.0, 'Krookodile', 'GroundDark', 519.0, 95.0, 117.0, 80.0, 65.0, 70.0, 92.0], [554.0, 'Darumaka', 'Fire', 315.0, 70.0, 90.0, 45.0, 15.0, 45.0, 50.0], [555.0, 'DarmanitanStandard Mode', 'Fire', 480.0, 105.0, 140.0, 55.0, 30.0, 55.0, 95.0], [555.0, 'DarmanitanZen Mode', 'FirePsychic', 540.0, 105.0, 30.0, 105.0, 140.0, 105.0, 55.0], [556.0, 'Maractus', 'Grass', 461.0, 75.0, 86.0, 67.0, 106.0, 67.0, 60.0], [557.0, 'Dwebble', 'BugRock', 325.0, 50.0, 65.0, 85.0, 35.0, 35.0, 55.0], [558.0, 'Crustle', 'BugRock', 475.0, 70.0, 95.0, 125.0, 65.0, 75.0, 45.0], [559.0, 'Scraggy', 'DarkFighting', 348.0, 50.0, 75.0, 70.0, 35.0, 70.0, 48.0], [560.0, 'Scrafty', 'DarkFighting', 488.0, 65.0, 90.0, 115.0, 45.0, 115.0, 58.0], [561.0, 'Sigilyph', 'PsychicFlying', 490.0, 72.0, 58.0, 80.0, 103.0, 80.0, 97.0], [562.0, 'Yamask', 'Ghost', 303.0, 38.0, 30.0, 85.0, 55.0, 65.0, 30.0], [563.0, 'Cofagrigus', 'Ghost', 483.0, 58.0, 50.0, 145.0, 95.0, 105.0, 30.0], [564.0, 'Tirtouga', 'WaterRock', 355.0, 54.0, 78.0, 103.0, 53.0, 45.0, 22.0], [565.0, 'Carracosta', 'WaterRock', 495.0, 74.0, 108.0, 133.0, 83.0, 65.0, 32.0], [566.0, 'Archen', 'RockFlying', 401.0, 55.0, 112.0, 45.0, 74.0, 45.0, 70.0], [567.0, 'Archeops', 'RockFlying', 567.0, 75.0, 140.0, 65.0, 112.0, 65.0, 110.0], [568.0, 'Trubbish', 'Poison', 329.0, 50.0, 50.0, 62.0, 40.0, 62.0, 65.0], [569.0, 'Garbodor', 'Poison', 474.0, 80.0, 95.0, 82.0, 60.0, 82.0, 75.0], [570.0, 'Zorua', 'Dark', 330.0, 40.0, 65.0, 40.0, 80.0, 40.0, 65.0], [571.0, 'Zoroark', 'Dark', 510.0, 60.0, 105.0, 60.0, 120.0, 60.0, 105.0], [572.0, 'Minccino', 'Normal', 300.0, 55.0, 50.0, 40.0, 40.0, 40.0, 75.0], [573.0, 'Cinccino', 'Normal', 470.0, 75.0, 95.0, 60.0, 65.0, 60.0, 115.0], [574.0, 'Gothita', 'Psychic', 290.0, 45.0, 30.0, 50.0, 55.0, 65.0, 45.0], [575.0, 'Gothorita', 'Psychic', 390.0, 60.0, 45.0, 70.0, 75.0, 85.0, 55.0], [576.0, 'Gothitelle', 'Psychic', 490.0, 70.0, 55.0, 95.0, 95.0, 110.0, 65.0], [577.0, 'Solosis', 'Psychic', 290.0, 45.0, 30.0, 40.0, 105.0, 50.0, 20.0], [578.0, 'Duosion', 'Psychic', 370.0, 65.0, 40.0, 50.0, 125.0, 60.0, 30.0], [579.0, 'Reuniclus', 'Psychic', 490.0, 110.0, 65.0, 75.0, 125.0, 85.0, 30.0], [580.0, 'Ducklett', 'WaterFlying', 305.0, 62.0, 44.0, 50.0, 44.0, 50.0, 55.0], [581.0, 'Swanna', 'WaterFlying', 473.0, 75.0, 87.0, 63.0, 87.0, 63.0, 98.0], [582.0, 'Vanillite', 'Ice', 305.0, 36.0, 50.0, 50.0, 65.0, 60.0, 44.0], [583.0, 'Vanillish', 'Ice', 395.0, 51.0, 65.0, 65.0, 80.0, 75.0, 59.0], [584.0, 'Vanilluxe', 'Ice', 535.0, 71.0, 95.0, 85.0, 110.0, 95.0, 79.0], [585.0, 'Deerling', 'NormalGrass', 335.0, 60.0, 60.0, 50.0, 40.0, 50.0, 75.0], [586.0, 'Sawsbuck', 'NormalGrass', 475.0, 80.0, 100.0, 70.0, 60.0, 70.0, 95.0], [587.0, 'Emolga', 'ElectricFlying', 428.0, 55.0, 75.0, 60.0, 75.0, 60.0, 103.0], [588.0, 'Karrablast', 'Bug', 315.0, 50.0, 75.0, 45.0, 40.0, 45.0, 60.0], [589.0, 'Escavalier', 'BugSteel', 495.0, 70.0, 135.0, 105.0, 60.0, 105.0, 20.0], [590.0, 'Foongus', 'GrassPoison', 294.0, 69.0, 55.0, 45.0, 55.0, 55.0, 15.0], [591.0, 'Amoonguss', 'GrassPoison', 464.0, 114.0, 85.0, 70.0, 85.0, 80.0, 30.0], [592.0, 'Frillish', 'WaterGhost', 335.0, 55.0, 40.0, 50.0, 65.0, 85.0, 40.0], [593.0, 'Jellicent', 'WaterGhost', 480.0, 100.0, 60.0, 70.0, 85.0, 105.0, 60.0], [594.0, 'Alomomola', 'Water', 470.0, 165.0, 75.0, 80.0, 40.0, 45.0, 65.0], [595.0, 'Joltik', 'BugElectric', 319.0, 50.0, 47.0, 50.0, 57.0, 50.0, 65.0], [596.0, 'Galvantula', 'BugElectric', 472.0, 70.0, 77.0, 60.0, 97.0, 60.0, 108.0], [597.0, 'Ferroseed', 'GrassSteel', 305.0, 44.0, 50.0, 91.0, 24.0, 86.0, 10.0], [598.0, 'Ferrothorn', 'GrassSteel', 489.0, 74.0, 94.0, 131.0, 54.0, 116.0, 20.0], [599.0, 'Klink', 'Steel', 300.0, 40.0, 55.0, 70.0, 45.0, 60.0, 30.0], [600.0, 'Klang', 'Steel', 440.0, 60.0, 80.0, 95.0, 70.0, 85.0, 50.0], [601.0, 'Klinklang', 'Steel', 520.0, 60.0, 100.0, 115.0, 70.0, 85.0, 90.0], [602.0, 'Tynamo', 'Electric', 275.0, 35.0, 55.0, 40.0, 45.0, 40.0, 60.0], [603.0, 'Eelektrik', 'Electric', 405.0, 65.0, 85.0, 70.0, 75.0, 70.0, 40.0], [604.0, 'Eelektross', 'Electric', 515.0, 85.0, 115.0, 80.0, 105.0, 80.0, 50.0], [605.0, 'Elgyem', 'Psychic', 335.0, 55.0, 55.0, 55.0, 85.0, 55.0, 30.0], [606.0, 'Beheeyem', 'Psychic', 485.0, 75.0, 75.0, 75.0, 125.0, 95.0, 40.0], [607.0, 'Litwick', 'GhostFire', 275.0, 50.0, 30.0, 55.0, 65.0, 55.0, 20.0], [608.0, 'Lampent', 'GhostFire', 370.0, 60.0, 40.0, 60.0, 95.0, 60.0, 55.0], [609.0, 'Chandelure', 'GhostFire', 520.0, 60.0, 55.0, 90.0, 145.0, 90.0, 80.0], [610.0, 'Axew', 'Dragon', 320.0, 46.0, 87.0, 60.0, 30.0, 40.0, 57.0], [611.0, 'Fraxure', 'Dragon', 410.0, 66.0, 117.0, 70.0, 40.0, 50.0, 67.0], [612.0, 'Haxorus', 'Dragon', 540.0, 76.0, 147.0, 90.0, 60.0, 70.0, 97.0], [613.0, 'Cubchoo', 'Ice', 305.0, 55.0, 70.0, 40.0, 60.0, 40.0, 40.0], [614.0, 'Beartic', 'Ice', 485.0, 95.0, 110.0, 80.0, 70.0, 80.0, 50.0], [615.0, 'Cryogonal', 'Ice', 485.0, 70.0, 50.0, 30.0, 95.0, 135.0, 105.0], [616.0, 'Shelmet', 'Bug', 305.0, 50.0, 40.0, 85.0, 40.0, 65.0, 25.0], [617.0, 'Accelgor', 'Bug', 495.0, 80.0, 70.0, 40.0, 100.0, 60.0, 145.0], [618.0, 'Stunfisk', 'GroundElectric', 471.0, 109.0, 66.0, 84.0, 81.0, 99.0, 32.0], [619.0, 'Mienfoo', 'Fighting', 350.0, 45.0, 85.0, 50.0, 55.0, 50.0, 65.0], [620.0, 'Mienshao', 'Fighting', 510.0, 65.0, 125.0, 60.0, 95.0, 60.0, 105.0], [621.0, 'Druddigon', 'Dragon', 485.0, 77.0, 120.0, 90.0, 60.0, 90.0, 48.0], [622.0, 'Golett', 'GroundGhost', 303.0, 59.0, 74.0, 50.0, 35.0, 50.0, 35.0], [623.0, 'Golurk', 'GroundGhost', 483.0, 89.0, 124.0, 80.0, 55.0, 80.0, 55.0], [624.0, 'Pawniard', 'DarkSteel', 340.0, 45.0, 85.0, 70.0, 40.0, 40.0, 60.0], [625.0, 'Bisharp', 'DarkSteel', 490.0, 65.0, 125.0, 100.0, 60.0, 70.0, 70.0], [626.0, 'Bouffalant', 'Normal', 490.0, 95.0, 110.0, 95.0, 40.0, 95.0, 55.0], [627.0, 'Rufflet', 'NormalFlying', 350.0, 70.0, 83.0, 50.0, 37.0, 50.0, 60.0], [628.0, 'Braviary', 'NormalFlying', 510.0, 100.0, 123.0, 75.0, 57.0, 75.0, 80.0], [629.0, 'Vullaby', 'DarkFlying', 370.0, 70.0, 55.0, 75.0, 45.0, 65.0, 60.0], [630.0, 'Mandibuzz', 'DarkFlying', 510.0, 110.0, 65.0, 105.0, 55.0, 95.0, 80.0], [631.0, 'Heatmor', 'Fire', 484.0, 85.0, 97.0, 66.0, 105.0, 66.0, 65.0], [632.0, 'Durant', 'BugSteel', 484.0, 58.0, 109.0, 112.0, 48.0, 48.0, 109.0], [633.0, 'Deino', 'DarkDragon', 300.0, 52.0, 65.0, 50.0, 45.0, 50.0, 38.0], [634.0, 'Zweilous', 'DarkDragon', 420.0, 72.0, 85.0, 70.0, 65.0, 70.0, 58.0], [635.0, 'Hydreigon', 'DarkDragon', 600.0, 92.0, 105.0, 90.0, 125.0, 90.0, 98.0], [636.0, 'Larvesta', 'BugFire', 360.0, 55.0, 85.0, 55.0, 50.0, 55.0, 60.0], [637.0, 'Volcarona', 'BugFire', 550.0, 85.0, 60.0, 65.0, 135.0, 105.0, 100.0], [638.0, 'Cobalion', 'SteelFighting', 580.0, 91.0, 90.0, 129.0, 90.0, 72.0, 108.0], [639.0, 'Terrakion', 'RockFighting', 580.0, 91.0, 129.0, 90.0, 72.0, 90.0, 108.0], [640.0, 'Virizion', 'GrassFighting', 580.0, 91.0, 90.0, 72.0, 90.0, 129.0, 108.0], [641.0, 'TornadusIncarnate Forme', 'Flying', 580.0, 79.0, 115.0, 70.0, 125.0, 80.0, 111.0], [641.0, 'TornadusTherian Forme', 'Flying', 580.0, 79.0, 100.0, 80.0, 110.0, 90.0, 121.0], [642.0, 'ThundurusIncarnate Forme', 'ElectricFlying', 580.0, 79.0, 115.0, 70.0, 125.0, 80.0, 111.0], [642.0, 'ThundurusTherian Forme', 'ElectricFlying', 580.0, 79.0, 105.0, 70.0, 145.0, 80.0, 101.0], [643.0, 'Reshiram', 'DragonFire', 680.0, 100.0, 120.0, 100.0, 150.0, 120.0, 90.0], [644.0, 'Zekrom', 'DragonElectric', 680.0, 100.0, 150.0, 120.0, 120.0, 100.0, 90.0], [645.0, 'LandorusIncarnate Forme', 'GroundFlying', 600.0, 89.0, 125.0, 90.0, 115.0, 80.0, 101.0], [645.0, 'LandorusTherian Forme', 'GroundFlying', 600.0, 89.0, 145.0, 90.0, 105.0, 80.0, 91.0], [646.0, 'Kyurem', 'DragonIce', 660.0, 125.0, 130.0, 90.0, 130.0, 90.0, 95.0], [646.0, 'KyuremBlack Kyurem', 'DragonIce', 700.0, 125.0, 170.0, 100.0, 120.0, 90.0, 95.0], [646.0, 'KyuremWhite Kyurem', 'DragonIce', 700.0, 125.0, 120.0, 90.0, 170.0, 100.0, 95.0], [647.0, 'KeldeoOrdinary Forme', 'WaterFighting', 580.0, 91.0, 72.0, 90.0, 129.0, 90.0, 108.0], [647.0, 'KeldeoResolute Forme', 'WaterFighting', 580.0, 91.0, 72.0, 90.0, 129.0, 90.0, 108.0], [648.0, 'MeloettaAria Forme', 'NormalPsychic', 600.0, 100.0, 77.0, 77.0, 128.0, 128.0, 90.0], [648.0, 'MeloettaPirouette Forme', 'NormalFighting', 600.0, 100.0, 128.0, 90.0, 77.0, 77.0, 128.0], [649.0, 'Genesect', 'BugSteel', 600.0, 71.0, 120.0, 95.0, 120.0, 95.0, 99.0], [650.0, 'Chespin', 'Grass', 313.0, 56.0, 61.0, 65.0, 48.0, 45.0, 38.0], [651.0, 'Quilladin', 'Grass', 405.0, 61.0, 78.0, 95.0, 56.0, 58.0, 57.0], [652.0, 'Chesnaught', 'GrassFighting', 530.0, 88.0, 107.0, 122.0, 74.0, 75.0, 64.0], [653.0, 'Fennekin', 'Fire', 307.0, 40.0, 45.0, 40.0, 62.0, 60.0, 60.0], [654.0, 'Braixen', 'Fire', 409.0, 59.0, 59.0, 58.0, 90.0, 70.0, 73.0], [655.0, 'Delphox', 'FirePsychic', 534.0, 75.0, 69.0, 72.0, 114.0, 100.0, 104.0], [656.0, 'Froakie', 'Water', 314.0, 41.0, 56.0, 40.0, 62.0, 44.0, 71.0], [657.0, 'Frogadier', 'Water', 405.0, 54.0, 63.0, 52.0, 83.0, 56.0, 97.0], [658.0, 'Greninja', 'WaterDark', 530.0, 72.0, 95.0, 67.0, 103.0, 71.0, 122.0], [659.0, 'Bunnelby', 'Normal', 237.0, 38.0, 36.0, 38.0, 32.0, 36.0, 57.0], [660.0, 'Diggersby', 'NormalGround', 423.0, 85.0, 56.0, 77.0, 50.0, 77.0, 78.0], [661.0, 'Fletchling', 'NormalFlying', 278.0, 45.0, 50.0, 43.0, 40.0, 38.0, 62.0], [662.0, 'Fletchinder', 'FireFlying', 382.0, 62.0, 73.0, 55.0, 56.0, 52.0, 84.0], [663.0, 'Talonflame', 'FireFlying', 499.0, 78.0, 81.0, 71.0, 74.0, 69.0, 126.0], [664.0, 'Scatterbug', 'Bug', 200.0, 38.0, 35.0, 40.0, 27.0, 25.0, 35.0], [665.0, 'Spewpa', 'Bug', 213.0, 45.0, 22.0, 60.0, 27.0, 30.0, 29.0], [666.0, 'Vivillon', 'BugFlying', 411.0, 80.0, 52.0, 50.0, 90.0, 50.0, 89.0], [667.0, 'Litleo', 'FireNormal', 369.0, 62.0, 50.0, 58.0, 73.0, 54.0, 72.0], [668.0, 'Pyroar', 'FireNormal', 507.0, 86.0, 68.0, 72.0, 109.0, 66.0, 106.0], [669.0, 'Flabébé', 'Fairy', 303.0, 44.0, 38.0, 39.0, 61.0, 79.0, 42.0], [670.0, 'Floette', 'Fairy', 371.0, 54.0, 45.0, 47.0, 75.0, 98.0, 52.0], [671.0, 'Florges', 'Fairy', 552.0, 78.0, 65.0, 68.0, 112.0, 154.0, 75.0], [672.0, 'Skiddo', 'Grass', 350.0, 66.0, 65.0, 48.0, 62.0, 57.0, 52.0], [673.0, 'Gogoat', 'Grass', 531.0, 123.0, 100.0, 62.0, 97.0, 81.0, 68.0], [674.0, 'Pancham', 'Fighting', 348.0, 67.0, 82.0, 62.0, 46.0, 48.0, 43.0], [675.0, 'Pangoro', 'FightingDark', 495.0, 95.0, 124.0, 78.0, 69.0, 71.0, 58.0], [676.0, 'Furfrou', 'Normal', 472.0, 75.0, 80.0, 60.0, 65.0, 90.0, 102.0], [677.0, 'Espurr', 'Psychic', 355.0, 62.0, 48.0, 54.0, 63.0, 60.0, 68.0], [678.0, 'MeowsticMale', 'Psychic', 466.0, 74.0, 48.0, 76.0, 83.0, 81.0, 104.0], [678.0, 'MeowsticFemale', 'Psychic', 466.0, 74.0, 48.0, 76.0, 83.0, 81.0, 104.0], [679.0, 'Honedge', 'SteelGhost', 325.0, 45.0, 80.0, 100.0, 35.0, 37.0, 28.0], [680.0, 'Doublade', 'SteelGhost', 448.0, 59.0, 110.0, 150.0, 45.0, 49.0, 35.0], [681.0, 'AegislashBlade Forme', 'SteelGhost', 520.0, 60.0, 150.0, 50.0, 150.0, 50.0, 60.0], [681.0, 'AegislashShield Forme', 'SteelGhost', 520.0, 60.0, 50.0, 150.0, 50.0, 150.0, 60.0], [682.0, 'Spritzee', 'Fairy', 341.0, 78.0, 52.0, 60.0, 63.0, 65.0, 23.0], [683.0, 'Aromatisse', 'Fairy', 462.0, 101.0, 72.0, 72.0, 99.0, 89.0, 29.0], [684.0, 'Swirlix', 'Fairy', 341.0, 62.0, 48.0, 66.0, 59.0, 57.0, 49.0], [685.0, 'Slurpuff', 'Fairy', 480.0, 82.0, 80.0, 86.0, 85.0, 75.0, 72.0], [686.0, 'Inkay', 'DarkPsychic', 288.0, 53.0, 54.0, 53.0, 37.0, 46.0, 45.0], [687.0, 'Malamar', 'DarkPsychic', 482.0, 86.0, 92.0, 88.0, 68.0, 75.0, 73.0], [688.0, 'Binacle', 'RockWater', 306.0, 42.0, 52.0, 67.0, 39.0, 56.0, 50.0], [689.0, 'Barbaracle', 'RockWater', 500.0, 72.0, 105.0, 115.0, 54.0, 86.0, 68.0], [690.0, 'Skrelp', 'PoisonWater', 320.0, 50.0, 60.0, 60.0, 60.0, 60.0, 30.0], [691.0, 'Dragalge', 'PoisonDragon', 494.0, 65.0, 75.0, 90.0, 97.0, 123.0, 44.0], [692.0, 'Clauncher', 'Water', 330.0, 50.0, 53.0, 62.0, 58.0, 63.0, 44.0], [693.0, 'Clawitzer', 'Water', 500.0, 71.0, 73.0, 88.0, 120.0, 89.0, 59.0], [694.0, 'Helioptile', 'ElectricNormal', 289.0, 44.0, 38.0, 33.0, 61.0, 43.0, 70.0], [695.0, 'Heliolisk', 'ElectricNormal', 481.0, 62.0, 55.0, 52.0, 109.0, 94.0, 109.0], [696.0, 'Tyrunt', 'RockDragon', 362.0, 58.0, 89.0, 77.0, 45.0, 45.0, 48.0], [697.0, 'Tyrantrum', 'RockDragon', 521.0, 82.0, 121.0, 119.0, 69.0, 59.0, 71.0], [698.0, 'Amaura', 'RockIce', 362.0, 77.0, 59.0, 50.0, 67.0, 63.0, 46.0], [699.0, 'Aurorus', 'RockIce', 521.0, 123.0, 77.0, 72.0, 99.0, 92.0, 58.0], [700.0, 'Sylveon', 'Fairy', 525.0, 95.0, 65.0, 65.0, 110.0, 130.0, 60.0], [701.0, 'Hawlucha', 'FightingFlying', 500.0, 78.0, 92.0, 75.0, 74.0, 63.0, 118.0], [702.0, 'Dedenne', 'ElectricFairy', 431.0, 67.0, 58.0, 57.0, 81.0, 67.0, 101.0], [703.0, 'Carbink', 'RockFairy', 500.0, 50.0, 50.0, 150.0, 50.0, 150.0, 50.0], [704.0, 'Goomy', 'Dragon', 300.0, 45.0, 50.0, 35.0, 55.0, 75.0, 40.0], [705.0, 'Sliggoo', 'Dragon', 452.0, 68.0, 75.0, 53.0, 83.0, 113.0, 60.0], [706.0, 'Goodra', 'Dragon', 600.0, 90.0, 100.0, 70.0, 110.0, 150.0, 80.0], [707.0, 'Klefki', 'SteelFairy', 470.0, 57.0, 80.0, 91.0, 80.0, 87.0, 75.0], [708.0, 'Phantump', 'GhostGrass', 309.0, 43.0, 70.0, 48.0, 50.0, 60.0, 38.0], [709.0, 'Trevenant', 'GhostGrass', 474.0, 85.0, 110.0, 76.0, 65.0, 82.0, 56.0], [710.0, 'PumpkabooAverage Size', 'GhostGrass', 335.0, 49.0, 66.0, 70.0, 44.0, 55.0, 51.0], [710.0, 'PumpkabooSmall Size', 'GhostGrass', 335.0, 44.0, 66.0, 70.0, 44.0, 55.0, 56.0], [710.0, 'PumpkabooLarge Size', 'GhostGrass', 335.0, 54.0, 66.0, 70.0, 44.0, 55.0, 46.0], [710.0, 'PumpkabooSuper Size', 'GhostGrass', 335.0, 59.0, 66.0, 70.0, 44.0, 55.0, 41.0], [711.0, 'GourgeistAverage Size', 'GhostGrass', 494.0, 65.0, 90.0, 122.0, 58.0, 75.0, 84.0], [711.0, 'GourgeistSmall Size', 'GhostGrass', 494.0, 55.0, 85.0, 122.0, 58.0, 75.0, 99.0], [711.0, 'GourgeistLarge Size', 'GhostGrass', 494.0, 75.0, 95.0, 122.0, 58.0, 75.0, 69.0], [711.0, 'GourgeistSuper Size', 'GhostGrass', 494.0, 85.0, 100.0, 122.0, 58.0, 75.0, 54.0], [712.0, 'Bergmite', 'Ice', 304.0, 55.0, 69.0, 85.0, 32.0, 35.0, 28.0], [713.0, 'Avalugg', 'Ice', 514.0, 95.0, 117.0, 184.0, 44.0, 46.0, 28.0], [714.0, 'Noibat', 'FlyingDragon', 245.0, 40.0, 30.0, 35.0, 45.0, 40.0, 55.0], [715.0, 'Noivern', 'FlyingDragon', 535.0, 85.0, 70.0, 80.0, 97.0, 80.0, 123.0], [716.0, 'Xerneas', 'Fairy', 680.0, 126.0, 131.0, 95.0, 131.0, 98.0, 99.0], [717.0, 'Yveltal', 'DarkFlying', 680.0, 126.0, 131.0, 95.0, 131.0, 98.0, 99.0], [718.0, 'Zygarde50% Forme', 'DragonGround', 600.0, 108.0, 100.0, 121.0, 81.0, 95.0, 95.0], [719.0, 'Diancie', 'RockFairy', 600.0, 50.0, 100.0, 150.0, 100.0, 150.0, 50.0], [719.0, 'DiancieMega Diancie', 'RockFairy', 700.0, 50.0, 160.0, 110.0, 160.0, 110.0, 110.0], [720.0, 'HoopaHoopa Confined', 'PsychicGhost', 600.0, 80.0, 110.0, 60.0, 150.0, 130.0, 70.0], [720.0, 'HoopaHoopa Unbound', 'PsychicDark', 680.0, 80.0, 160.0, 60.0, 170.0, 130.0, 80.0], [721.0, 'Volcanion', 'FireWater', 600.0, 80.0, 110.0, 120.0, 130.0, 90.0, 70.0], [-1]]\n"
     ]
    }
   ],
   "source": [
    "rm_quotes = raw_pd.replace('\"','')\n",
    "split_rows = rm_quotes.split('\\n')\n",
    "\n",
    "split_data=[]\n",
    "\n",
    "for x in split_rows:\n",
    "    another_one = x.split(',')\n",
    "    empty_cell_list = []\n",
    "    for x in another_one:\n",
    "        if x.isdigit()==True:\n",
    "            num_to_float = float(x)\n",
    "        elif x == '':\n",
    "            num_to_float = -1\n",
    "        else:\n",
    "            num_to_float = x\n",
    "        empty_cell_list.append(num_to_float)\n",
    "    split_data.append(empty_cell_list)\n",
    "    \n",
    "print (split_data)\n",
    "\n",
    "\n"
   ]
  },
  {
   "cell_type": "markdown",
   "metadata": {},
   "source": [
    "#### Print out the first 3 lists"
   ]
  },
  {
   "cell_type": "code",
   "execution_count": 21,
   "metadata": {
    "collapsed": false
   },
   "outputs": [
    {
     "data": {
      "text/plain": [
       "[['PokedexNumber',\n",
       "  'Name',\n",
       "  'Type',\n",
       "  'Total',\n",
       "  'HP',\n",
       "  'Attack',\n",
       "  'Defense',\n",
       "  'SpecialAttack',\n",
       "  'SpecialDefense',\n",
       "  'Speed'],\n",
       " [1.0, 'Bulbasaur', 'GrassPoison', 318.0, 45.0, 49.0, 49.0, 65.0, 65.0, 45.0],\n",
       " [2.0, 'Ivysaur', 'GrassPoison', 405.0, 60.0, 62.0, 63.0, 80.0, 80.0, 60.0]]"
      ]
     },
     "execution_count": 21,
     "metadata": {},
     "output_type": "execute_result"
    }
   ],
   "source": [
    "split_data[:3]"
   ]
  },
  {
   "cell_type": "markdown",
   "metadata": {},
   "source": [
    "<img src=\"http://imgur.com/GCAf1UX.png\" style=\"float: left; margin: 25px 15px 0px 0px; height: 25px\">\n",
    "\n",
    "## Review Problem 9.B\n",
    "\n",
    "---\n",
    "\n",
    "Perform the same parsing that you did with `for` loops in problem 9A, but **using only a nested list comprehensions**. A single list comprehension (with nested list comprehensions inside of it) should do all of the parsing of `raw_pd`, outputting the list of lists. Do not write any functions to call within the list comprehension.\n",
    "\n",
    "The output should be exactly the same as in 9A."
   ]
  },
  {
   "cell_type": "markdown",
   "metadata": {},
   "source": [
    "#### Write the nested list comprehension to parse `raw_pd`:"
   ]
  },
  {
   "cell_type": "code",
   "execution_count": null,
   "metadata": {
    "collapsed": true
   },
   "outputs": [],
   "source": []
  },
  {
   "cell_type": "markdown",
   "metadata": {},
   "source": [
    "#### Print the first 3 lines of your parsed pokedex:"
   ]
  },
  {
   "cell_type": "code",
   "execution_count": null,
   "metadata": {
    "collapsed": true
   },
   "outputs": [],
   "source": []
  },
  {
   "cell_type": "markdown",
   "metadata": {},
   "source": [
    "<img src=\"http://imgur.com/gGrau8s.png\" style=\"float: left; margin: 25px 15px 0px 0px; height: 25px\">\n",
    "\n",
    "### Review Problem 10\n",
    "\n",
    "---\n",
    "\n",
    "Write a function that takes a tiered dictionary of dictionaries with arbitrary depth. Your function will iterate through the dictionary, printing out the contents.\n",
    "\n",
    "Define a function that:\n",
    "\n",
    "- Accepts at least one argument, the predefined dictionary.\n",
    "- For each key:value pair, print out the key and the value.\n",
    "- If the value is also a dictionary, do the same for that dictionary, but printing out the key:value pair with tabs equivalent to the current \"depth\" indicating what level we are on.\n",
    "- Note: tab in strings is written as ```\\t```\n",
    "    \n",
    "Example:\n",
    "```python\n",
    "'key1' : 'value1'\n",
    "'key2' :\n",
    "    'key3' : 'value3'\n",
    "    'key4' : 'value4'\n",
    "    'key5' :\n",
    "        'key6': 'value6'\n",
    "'key7' : 'value7'\n",
    "```"
   ]
  },
  {
   "cell_type": "code",
   "execution_count": 9,
   "metadata": {
    "collapsed": true
   },
   "outputs": [],
   "source": [
    "tiered_dict = {'T1.1':'V1.1', \n",
    "               'T1.2':'V1.2',\n",
    "               'T1.3':{'T2.1':'V2.1',\n",
    "                       'T2.2':['V2.2.1','V2.2.2'],\n",
    "                       'T2.3':{'T3.1':['V3.1.1','V3.1.2'],\n",
    "                               'T3.2':'V3.2',\n",
    "                               'T3.3':'V3.3'}},\n",
    "               'T1.4':{'T2.4':{'T3.4':{'T4.1':'V4.1',\n",
    "                                       'T4.2':'V4.2'},\n",
    "                               'T3.5':{'T4.3':'V4.3'}},\n",
    "                       'T2.5':['V2.3.1','V2.3.2']},\n",
    "               }"
   ]
  },
  {
   "cell_type": "markdown",
   "metadata": {},
   "source": [
    "#### Define your function below:"
   ]
  },
  {
   "cell_type": "code",
   "execution_count": null,
   "metadata": {
    "collapsed": true
   },
   "outputs": [],
   "source": []
  },
  {
   "cell_type": "markdown",
   "metadata": {},
   "source": [
    "#### Run your function on `tiered_dict`:"
   ]
  },
  {
   "cell_type": "code",
   "execution_count": null,
   "metadata": {
    "collapsed": true
   },
   "outputs": [],
   "source": []
  }
 ],
 "metadata": {
  "anaconda-cloud": {},
  "kernelspec": {
   "display_name": "Python [default]",
   "language": "python",
   "name": "python3"
  },
  "language_info": {
   "codemirror_mode": {
    "name": "ipython",
    "version": 3
   },
   "file_extension": ".py",
   "mimetype": "text/x-python",
   "name": "python",
   "nbconvert_exporter": "python",
   "pygments_lexer": "ipython3",
   "version": "3.5.2"
  }
 },
 "nbformat": 4,
 "nbformat_minor": 0
}
