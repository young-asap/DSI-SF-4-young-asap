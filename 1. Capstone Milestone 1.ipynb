{
 "cells": [
  {
   "cell_type": "markdown",
   "metadata": {},
   "source": [
    "# Potential Problem #1: \n",
    "#### What implications do lower/higher speed limits have on overall number of accidents, severity of the accident and deaths?"
   ]
  },
  {
   "cell_type": "markdown",
   "metadata": {},
   "source": [
    "# Goals:\n",
    "    -Gather data from different sources (i.e. U.S. data, UK data, Germany data)\n",
    "    -Correlate speed limits with total number of accidents\n",
    "        -Of these accidents, how many were more or less fatal with the range of given speed limits\n",
    "    -Prove if higher speed limits actually result in more deaths\n",
    "    -Create a metric system for defining Very Safe, Moderately Safe, and Death Trap highways/roads\n",
    "    -Apply this metric system to visualizations/maps which you can click on different regions to see which are the safest/most dangerous highways in the U.S. "
   ]
  },
  {
   "cell_type": "markdown",
   "metadata": {},
   "source": [
    "Links to Datasets:\n",
    "\n",
    "    1) https://data.gov.uk/dataset/road-accidents-safety-data <-- this site contains datasets for car accident data in the UK spanning from the years 1979-2015\n",
    "    \n",
    "    2) https://cdan.nhtsa.gov/stsi.htm# <-- this site contains Traffic Safety Information For Year 2015 by State. \n",
    "    \n",
    "    3) I would like to also include accident data in Germany if possible. Statistics show that higher speed limits do not directly correlate with the number of accidents/fatalities in specific regions of Germany."
   ]
  },
  {
   "cell_type": "markdown",
   "metadata": {},
   "source": [
    "# Potential Problem #1: \n",
    "#### I would like to compare the number of concussions by position, time period, and severity in the NFL. There was a recent study conducted by CBS stating that 96% of retired NFL players ended up having CTE (Chronic Traumatic Encephalopathy), many of which committed suicide. This has been a topic of conversation, recently more than ever with all of the new data being generated."
   ]
  },
  {
   "cell_type": "code",
   "execution_count": null,
   "metadata": {
    "collapsed": true
   },
   "outputs": [],
   "source": []
  }
 ],
 "metadata": {
  "anaconda-cloud": {},
  "kernelspec": {
   "display_name": "Python [default]",
   "language": "python",
   "name": "python3"
  },
  "language_info": {
   "codemirror_mode": {
    "name": "ipython",
    "version": 3
   },
   "file_extension": ".py",
   "mimetype": "text/x-python",
   "name": "python",
   "nbconvert_exporter": "python",
   "pygments_lexer": "ipython3",
   "version": "3.5.2"
  }
 },
 "nbformat": 4,
 "nbformat_minor": 1
}
